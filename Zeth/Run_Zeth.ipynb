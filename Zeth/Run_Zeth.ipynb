{
 "cells": [
  {
   "cell_type": "code",
   "execution_count": 110,
   "metadata": {},
   "outputs": [
    {
     "ename": "KeyboardInterrupt",
     "evalue": "",
     "output_type": "error",
     "traceback": [
      "\u001b[0;31m---------------------------------------------------------------------------\u001b[0m",
      "\u001b[0;31mKeyboardInterrupt\u001b[0m                         Traceback (most recent call last)",
      "\u001b[0;32m<ipython-input-110-2ac9f006c112>\u001b[0m in \u001b[0;36m<module>\u001b[0;34m\u001b[0m\n\u001b[1;32m    288\u001b[0m \u001b[0;34m\u001b[0m\u001b[0m\n\u001b[1;32m    289\u001b[0m \u001b[0;34m\u001b[0m\u001b[0m\n\u001b[0;32m--> 290\u001b[0;31m     \u001b[0mpygame\u001b[0m\u001b[0;34m.\u001b[0m\u001b[0mdisplay\u001b[0m\u001b[0;34m.\u001b[0m\u001b[0mflip\u001b[0m\u001b[0;34m(\u001b[0m\u001b[0;34m)\u001b[0m\u001b[0;34m\u001b[0m\u001b[0;34m\u001b[0m\u001b[0m\n\u001b[0m\u001b[1;32m    291\u001b[0m     \u001b[0mclock\u001b[0m\u001b[0;34m.\u001b[0m\u001b[0mtick\u001b[0m\u001b[0;34m(\u001b[0m\u001b[0;36m100\u001b[0m\u001b[0;34m)\u001b[0m\u001b[0;34m\u001b[0m\u001b[0;34m\u001b[0m\u001b[0m\n\u001b[1;32m    292\u001b[0m \u001b[0;34m\u001b[0m\u001b[0m\n",
      "\u001b[0;31mKeyboardInterrupt\u001b[0m: "
     ]
    }
   ],
   "source": [
    "import pygame\n",
    "import math\n",
    "from Body_Classes import Body\n",
    "\n",
    "pygame.init()\n",
    "\n",
    "display_width = 1000\n",
    "display_height = 800\n",
    "\n",
    "gameDisplay = pygame.display.set_mode((display_width,display_height))\n",
    "pygame.display.set_caption('Sticky')\n",
    "\n",
    "black = (0,0,0)\n",
    "white = (255,255,255)\n",
    "\n",
    "clock = pygame.time.Clock()\n",
    "\n",
    "summon_width = 7\n",
    "\n",
    "\n",
    "class Line:\n",
    "    \n",
    "    thickness = 2\n",
    "    \n",
    "    def __init__(self,nodes,color):\n",
    "        self.nodes = list(nodes)\n",
    "        self.color = tuple(color)\n",
    "        \n",
    "    def draw(self):\n",
    "        pygame.draw.lines(gameDisplay, self.color, True, self.nodes, self.thickness)\n",
    "\n",
    "class Shape:\n",
    "    \n",
    "    def __init__(self,nodes,color):\n",
    "        self.nodes = list(nodes)\n",
    "        self.color = tuple(color)\n",
    "        self.nodes.append(self.nodes[0]) #wrap shape around so it will fill\n",
    "        self.angle = 0 # angle for rotating image\n",
    "        \n",
    "    def draw(self,position,scale,direction):\n",
    "        \n",
    "        nodes = [tuple(i*scale*d+j for i,j,d in zip(k,position,direction)) for k in self.nodes]\n",
    "       # print(nodes)\n",
    "        pygame.draw.polygon(gameDisplay, self.color, nodes)\n",
    "\n",
    "   # def draw(self,position,scale):\n",
    "   #     self.draw(position,scale,[1,1])\n",
    "        \n",
    "    def rotate(self,angle): # rotate shape by set amount\n",
    "        self.nodes = [(math.cos(angle)*n[0]-math.sin(angle)*n[1], math.cos(angle)*n[1]+math.sin(angle)*n[0]) for n in self.nodes]\n",
    "        \n",
    "    \n",
    "    def set_angle(self,angle): # set angle using input\n",
    "        self.rotate(angle-self.angle)\n",
    "        \n",
    "        \n",
    "        \n",
    "class Circle:\n",
    "    def __init__(self,position,radius,color):\n",
    "        self.pos = position\n",
    "        self.color = tuple(color)\n",
    "        self.radius = radius\n",
    "        \n",
    "    def draw(self,position,scale,width,direction):\n",
    "        pygame.draw.circle(gameDisplay, self.color, [int(i*k+j) for i,j,k in zip(self.pos,position,direction)],int(self.radius*scale),int(width))\n",
    "\n",
    "    def rotate(self,angle):\n",
    "        self.pos = (math.cos(angle)*self.pos[0]-math.sin(angle)*self.pos[1], math.cos(angle)*self.pos[1]+math.sin(angle)*self.pos[0])\n",
    "    \n",
    "    def set_angle(self,angle): # set angle using input\n",
    "        self.rotate(angle-self.angle)\n",
    "        \n",
    "        \n",
    "class Arrow:\n",
    "    def __init__(self,position,scale,color):\n",
    "        self.pos = position\n",
    "        self.s = scale\n",
    "        self.base_shape = [(5,-10),(5,3),(10,3),(0,10),(-10,3),(-5,3),(-5,-10)]\n",
    "        self.direction = [-1,0]\n",
    "        self.shapes = Shape([(5,-10),(5,3),(10,3),(0,10),(-10,3),(-5,3),(-5,-10)],color)\n",
    "        \n",
    "    def switch_direction(self,direction):\n",
    "        \n",
    "        if direction != self.direction: # if change is needed\n",
    "            \n",
    "            if self.direction[0]:\n",
    "                pass\n",
    "        \n",
    "class Stickman(Body):\n",
    "    \n",
    "    airborne = False\n",
    "    sworded = False\n",
    "    summoning = False\n",
    "    running = False\n",
    "    lashed = [0,0,0,0]\n",
    "    angle = 0\n",
    "    \n",
    "    def __init__(self,scale,position,color):\n",
    "        super().__init__(position,[20*scale,85*scale]) # Create & initialize location (x,y) and size (w,h)\n",
    "        self.corporeal = True              \n",
    "        self.s = scale\n",
    "        self.pos = list(position)\n",
    "        \n",
    "        \n",
    "        self.bodyparts = {'head_standing': Shape([(10,-10),(20,-30),(-10,-50),(0,-30),(-20,-30)],color)}\n",
    "        self.bodyparts['arm1_running'] = Shape([(-10-1,5),(10-1,5),(2-21,50-9),(6-4,85-28),(-6,85-20),(-2-25,50-8)],[i*.9 for i in color])\n",
    "        self.bodyparts['head_running'] = Shape([(10,-10),(20,-30),(-10,-50),(0,-30),(-20,-30)],color)\n",
    "        self.bodyparts['body_running'] = Shape([(-20,0),(20,0),(0-10,70),(-20-20,140),(20,140),(15,105),(0-10,70)],color)\n",
    "        self.bodyparts['body_standing'] = Shape([(-20,0),(20,0),(0,70),(-20,140),(20,140),(15,105),(0,70)],color)\n",
    "        self.bodyparts['sword_standing'] = Shape([(10,88),(50,92),(130,85),(100,65),(10,72)],[(100,100,255)])\n",
    "        d = [-34,46]\n",
    "        self.bodyparts['sword_running'] = Shape([(88+d[0],-10+d[1]),(92+d[0],-50+d[1]),(85+d[0],-130+d[1]),(65+d[0],-100+d[1]),(72+d[0],-10+d[1])],[(100,100,255)])\n",
    "        self.bodyparts['sword_hilt_standing'] = Shape([(-10,77),(-10,83),(10,83),(10,77)],[i*.6 for i in color])\n",
    "        self.bodyparts['sword_hilt_running'] = Shape([(77+d[0],10+d[1]),(83+d[0],10+d[1]),(83+d[0],-10+d[1]),(77+d[0],-10+d[1])],[i*.6 for i in color])\n",
    "        self.bodyparts['arm_standing'] = Shape([(-10,5),(10,5),(2,50),(6,85),(-6,85),(-2,50)],[i*.9 for i in color])\n",
    "        self.bodyparts['arm2_running'] = Shape([(-10-3,5),(10-3,5),(2+20,50-8),(6+40,85-44),(-6+52,85-34),(-2+20,50-5)],[i*.9 for i in color])\n",
    "        \n",
    "        self.animations = {'summoning': Circle((0,80),summon_width,(100,100,255))}\n",
    "        self.animations['summoning_running']= Circle((80+d[0],0+d[1]),summon_width,(100,100,255))\n",
    "        self.direction = [1,1]\n",
    "        \n",
    "        shift = (0,-45)\n",
    "        for b in self.bodyparts.values():\n",
    "            b.nodes = [tuple(k[i]+shift[i] for i in range(2)) for k in b.nodes ]\n",
    "        for b in self.animations.values():\n",
    "            b.pos = tuple(b.pos[i]+shift[i] for i in range(2))\n",
    "           \n",
    "          \n",
    "            \n",
    "    def rotate(self,angle):\n",
    "        self.angle += angle\n",
    "        for b in self.bodyparts.values():\n",
    "            b.rotate(angle)\n",
    "        for b in self.animations.values():\n",
    "            b.rotate(angle)\n",
    "     \n",
    "    def set_angle(self,angle): # set angle using input\n",
    "        self.rotate(angle-self.angle)    \n",
    "        \n",
    "    def draw(self):\n",
    "        self.running = (abs(self.vel[0])>0)\n",
    "        if self.running:\n",
    "            self.direction[0] = int(math.copysign(1,self.vel[0]))\n",
    "          \n",
    "        \n",
    "        for k,v in self.bodyparts.items():\n",
    "            if self.running == ('running' in k) and (self.sworded or not 'sword' in k) and (self.summoning or not 'summoning' in k):\n",
    "                v.draw(self.pos,self.s,self.direction)\n",
    "         \n",
    "        if self.summoning:\n",
    "            if self.summoning < 0:\n",
    "                self.summoning = 0\n",
    "            else:\n",
    "                if self.running:\n",
    "                    self.animations['summoning_running'].draw(self.pos,self.s*self.summoning,self.s*summon_width,self.direction)\n",
    "                else:\n",
    "                    self.animations['summoning'].draw(self.pos,self.s*self.summoning,self.s*summon_width,self.direction)\n",
    "\n",
    "        \n",
    "    def move(self): # move, and deal with internal state\n",
    "        \n",
    "        super().move()\n",
    "        \n",
    "        if self.summoning: # evolve summoning time\n",
    "            self.summoning -= 0.2\n",
    "        \n",
    "            if self.summoning<=1:\n",
    "                self.summoning = False\n",
    "                self.sworded = True\n",
    "                \n",
    "    def jump(self):\n",
    "        \n",
    "        if not self.airborne:\n",
    "            self.vel[1] = -20*self.direction[1]\n",
    "            self.airborne = True\n",
    "\n",
    "        \n",
    "                \n",
    "    \n",
    "    \n",
    "floor = 450\n",
    "ceil = 100\n",
    "wall1 = 50\n",
    "wall2 = display_width-50\n",
    "\n",
    "zeth = Stickman(1,(500,floor),white)  \n",
    "\n",
    "#x = Line([(300,300),(200,200)],(255,0,0))\n",
    "\n",
    "\n",
    "\n",
    "\n",
    "crashed = False\n",
    "\n",
    "\n",
    "font = pygame.font.Font('freesansbold.ttf', 370) \n",
    "  \n",
    "# create a text suface object, \n",
    "# on which text is drawn on it. \n",
    "text = font.render('ZETH', True, white) \n",
    "textRect = text.get_rect()  \n",
    "# set the center of the rectangular object. \n",
    "textRect.center = (5+ display_width // 2, 370 +  display_height // 2) \n",
    "\n",
    "\n",
    "\n",
    "\n",
    "\n",
    "left_key = False\n",
    "right_key = False\n",
    "up_key = False\n",
    "down_key = False\n",
    "invert_key = False\n",
    "\n",
    "\n",
    "while True:\n",
    "    \n",
    "    for event in pygame.event.get():\n",
    "\n",
    "        if event.type == pygame.KEYDOWN:\n",
    "            if event.key == pygame.K_LEFT:\n",
    "                left_key = True\n",
    "            elif event.key == pygame.K_RIGHT:\n",
    "                right_key = True\n",
    "             \n",
    "                \n",
    "            elif event.key == pygame.K_UP:\n",
    "                up_key = True\n",
    "            elif event.key == pygame.K_DOWN:\n",
    "                down_key = True\n",
    "                \n",
    "            elif event.key == pygame.K_s:\n",
    "                if not zeth.sworded:\n",
    "                    zeth.summoning = 10\n",
    "                \n",
    "            elif event.key == pygame.K_x:\n",
    "                zeth.sworded = False\n",
    "                \n",
    "            elif event.key == pygame.K_d:\n",
    "                zeth.jump()\n",
    "                \n",
    "            elif event.key == pygame.K_a:\n",
    "                invert_key = True\n",
    "                zeth.set_angle(math.pi)\n",
    "                #zeth.direction[1] = 1\n",
    "                \n",
    "        elif event.type == pygame.KEYUP:\n",
    "            if event.key == pygame.K_LEFT:\n",
    "                left_key = False\n",
    "            elif event.key == pygame.K_RIGHT:\n",
    "                right_key = False\n",
    "            elif event.key == pygame.K_s:\n",
    "                zeth.summoning = False\n",
    "            \n",
    "            elif event.key == pygame.K_UP:\n",
    "                up_key = False\n",
    "            elif event.key == pygame.K_DOWN:\n",
    "                down_key = False\n",
    "            elif event.key == pygame.K_a:\n",
    "                invert_key = False\n",
    "                zeth.set_angle(0)\n",
    "               # zeth.direction[1] = 1\n",
    "        ######################  \n",
    "   \n",
    "\n",
    "    gameDisplay.fill(black)\n",
    "\n",
    "    zeth.vel[1] += 0.7*(1-2*invert_key)\n",
    "    zeth.move()\n",
    "    zeth.airborne = True\n",
    "    if zeth.pos[1] >= floor:\n",
    "        zeth.pos[1] = floor\n",
    "        zeth.airborne = False\n",
    "        zeth.vel[1] = 0\n",
    "    \n",
    "    \n",
    "    if zeth.pos[1] <= ceil:\n",
    "        zeth.pos[1] = ceil\n",
    "        zeth.airborne = False\n",
    "        zeth.vel[1] = 0\n",
    "    \n",
    "    zeth.vel[0] = 5*(right_key-left_key)\n",
    "\n",
    "   # x.draw()\n",
    "    zeth.draw()\n",
    "    \n",
    "    gameDisplay.blit(text, textRect) \n",
    "        \n",
    "    \n",
    "    pygame.display.flip()\n",
    "    clock.tick(100)\n",
    "    \n",
    "    \n",
    "    \n",
    " \n",
    "    \n"
   ]
  },
  {
   "cell_type": "code",
   "execution_count": 6,
   "metadata": {},
   "outputs": [
    {
     "name": "stdout",
     "output_type": "stream",
     "text": [
      "/Users/Sam\n"
     ]
    }
   ],
   "source": [
    "cd"
   ]
  },
  {
   "cell_type": "code",
   "execution_count": 2,
   "metadata": {},
   "outputs": [
    {
     "data": {
      "text/plain": [
       "True"
      ]
     },
     "execution_count": 2,
     "metadata": {},
     "output_type": "execute_result"
    }
   ],
   "source": [
    "[0,1] == [0,1]"
   ]
  },
  {
   "cell_type": "code",
   "execution_count": 4,
   "metadata": {},
   "outputs": [
    {
     "data": {
      "text/plain": [
       "((22, 42), (46, 41), (46, 51), (18, 45))"
      ]
     },
     "execution_count": 4,
     "metadata": {},
     "output_type": "execute_result"
    }
   ],
   "source": [
    "(2+20,50-8),(6+40,85-44),(-6+52,85-34),(-2+20,50-5)"
   ]
  },
  {
   "cell_type": "code",
   "execution_count": 7,
   "metadata": {},
   "outputs": [
    {
     "data": {
      "text/plain": [
       "-0.9999987317275395"
      ]
     },
     "execution_count": 7,
     "metadata": {},
     "output_type": "execute_result"
    }
   ],
   "source": [
    "math.cos()"
   ]
  },
  {
   "cell_type": "code",
   "execution_count": 9,
   "metadata": {},
   "outputs": [
    {
     "data": {
      "text/plain": [
       "-1.0"
      ]
     },
     "execution_count": 9,
     "metadata": {},
     "output_type": "execute_result"
    }
   ],
   "source": [
    "math.cos(math.pi)"
   ]
  },
  {
   "cell_type": "code",
   "execution_count": 1,
   "metadata": {},
   "outputs": [
    {
     "name": "stdout",
     "output_type": "stream",
     "text": [
      "pygame 1.9.6\n",
      "Hello from the pygame community. https://www.pygame.org/contribute.html\n"
     ]
    }
   ],
   "source": [
    "import math, numpy as np, pygame\n"
   ]
  },
  {
   "cell_type": "code",
   "execution_count": 2,
   "metadata": {},
   "outputs": [
    {
     "data": {
      "text/plain": [
       "array([4, 5])"
      ]
     },
     "execution_count": 2,
     "metadata": {},
     "output_type": "execute_result"
    }
   ],
   "source": [
    "np.add(tuple((1,1)),tuple((3,4)))"
   ]
  },
  {
   "cell_type": "code",
   "execution_count": 4,
   "metadata": {},
   "outputs": [
    {
     "data": {
      "text/plain": [
       "<module 'math' from '/Users/Sam/anaconda3/lib/python3.7/lib-dynload/math.cpython-37m-darwin.so'>"
      ]
     },
     "execution_count": 4,
     "metadata": {},
     "output_type": "execute_result"
    }
   ],
   "source": [
    "math"
   ]
  },
  {
   "cell_type": "code",
   "execution_count": 12,
   "metadata": {},
   "outputs": [],
   "source": [
    "x = np.array((1,1))\n",
    "y = np.array((3,3))"
   ]
  },
  {
   "cell_type": "code",
   "execution_count": 9,
   "metadata": {},
   "outputs": [
    {
     "data": {
      "text/plain": [
       "array([3, 3])"
      ]
     },
     "execution_count": 9,
     "metadata": {},
     "output_type": "execute_result"
    }
   ],
   "source": [
    "x*y"
   ]
  },
  {
   "cell_type": "code",
   "execution_count": 18,
   "metadata": {},
   "outputs": [
    {
     "data": {
      "text/plain": [
       "True"
      ]
     },
     "execution_count": 18,
     "metadata": {},
     "output_type": "execute_result"
    }
   ],
   "source": [
    "isinstance(x,np.ndarray)"
   ]
  },
  {
   "cell_type": "code",
   "execution_count": 16,
   "metadata": {},
   "outputs": [
    {
     "data": {
      "text/plain": [
       "numpy.ndarray"
      ]
     },
     "execution_count": 16,
     "metadata": {},
     "output_type": "execute_result"
    }
   ],
   "source": [
    "type(np.array([0,0]))"
   ]
  },
  {
   "cell_type": "code",
   "execution_count": 22,
   "metadata": {},
   "outputs": [
    {
     "data": {
      "text/plain": [
       "False"
      ]
     },
     "execution_count": 22,
     "metadata": {},
     "output_type": "execute_result"
    }
   ],
   "source": [
    "-0 != -0.0"
   ]
  },
  {
   "cell_type": "code",
   "execution_count": 27,
   "metadata": {},
   "outputs": [],
   "source": [
    "x = np.array([[1,1],[1,1]])"
   ]
  },
  {
   "cell_type": "code",
   "execution_count": 30,
   "metadata": {},
   "outputs": [
    {
     "data": {
      "text/plain": [
       "array([[1, 1],\n",
       "       [1, 1]])"
      ]
     },
     "execution_count": 30,
     "metadata": {},
     "output_type": "execute_result"
    }
   ],
   "source": [
    "x[:]"
   ]
  },
  {
   "cell_type": "code",
   "execution_count": 40,
   "metadata": {},
   "outputs": [
    {
     "ename": "TypeError",
     "evalue": "'type' object is not iterable",
     "output_type": "error",
     "traceback": [
      "\u001b[0;31m---------------------------------------------------------------------------\u001b[0m",
      "\u001b[0;31mTypeError\u001b[0m                                 Traceback (most recent call last)",
      "\u001b[0;32m<ipython-input-40-0acb7a92b6c5>\u001b[0m in \u001b[0;36m<module>\u001b[0;34m\u001b[0m\n\u001b[0;32m----> 1\u001b[0;31m \u001b[0mlist\u001b[0m\u001b[0;34m(\u001b[0m\u001b[0mfloat\u001b[0m\u001b[0;34m)\u001b[0m\u001b[0;34m\u001b[0m\u001b[0;34m\u001b[0m\u001b[0m\n\u001b[0m",
      "\u001b[0;31mTypeError\u001b[0m: 'type' object is not iterable"
     ]
    }
   ],
   "source": [
    "list(float)"
   ]
  },
  {
   "cell_type": "code",
   "execution_count": 37,
   "metadata": {},
   "outputs": [
    {
     "data": {
      "text/plain": [
       "float"
      ]
     },
     "execution_count": 37,
     "metadata": {},
     "output_type": "execute_result"
    }
   ],
   "source": [
    "type(1.0)"
   ]
  },
  {
   "cell_type": "code",
   "execution_count": 42,
   "metadata": {},
   "outputs": [
    {
     "data": {
      "text/plain": [
       "array([[1, 1],\n",
       "       [1, 1]])"
      ]
     },
     "execution_count": 42,
     "metadata": {},
     "output_type": "execute_result"
    }
   ],
   "source": [
    "abs(-x)"
   ]
  },
  {
   "cell_type": "code",
   "execution_count": 56,
   "metadata": {},
   "outputs": [],
   "source": [
    "times = 4"
   ]
  },
  {
   "cell_type": "code",
   "execution_count": 60,
   "metadata": {},
   "outputs": [],
   "source": [
    "rot90mat = np.array([[0,-1],[1,0]])\n"
   ]
  },
  {
   "cell_type": "code",
   "execution_count": 62,
   "metadata": {},
   "outputs": [
    {
     "data": {
      "text/plain": [
       "array([[ 1, -1],\n",
       "       [ 1, -1]])"
      ]
     },
     "execution_count": 62,
     "metadata": {},
     "output_type": "execute_result"
    }
   ],
   "source": [
    "np.matmul(x,rot90mat)"
   ]
  },
  {
   "cell_type": "code",
   "execution_count": 106,
   "metadata": {},
   "outputs": [],
   "source": [
    "x = np.array([[1,2],[3,4]])"
   ]
  },
  {
   "cell_type": "code",
   "execution_count": 107,
   "metadata": {},
   "outputs": [],
   "source": [
    "y = x"
   ]
  },
  {
   "cell_type": "code",
   "execution_count": 108,
   "metadata": {},
   "outputs": [],
   "source": [
    "x[1,:] *= 2"
   ]
  },
  {
   "cell_type": "code",
   "execution_count": 109,
   "metadata": {},
   "outputs": [
    {
     "data": {
      "text/plain": [
       "(array([[1, 2],\n",
       "        [6, 8]]), array([[1, 2],\n",
       "        [6, 8]]))"
      ]
     },
     "execution_count": 109,
     "metadata": {},
     "output_type": "execute_result"
    }
   ],
   "source": [
    "x,y"
   ]
  },
  {
   "cell_type": "code",
   "execution_count": 100,
   "metadata": {},
   "outputs": [
    {
     "data": {
      "text/plain": [
       "array([[1, 2],\n",
       "       [3, 4]])"
      ]
     },
     "execution_count": 100,
     "metadata": {},
     "output_type": "execute_result"
    }
   ],
   "source": [
    "y"
   ]
  },
  {
   "cell_type": "code",
   "execution_count": 80,
   "metadata": {},
   "outputs": [
    {
     "data": {
      "text/plain": [
       "True"
      ]
     },
     "execution_count": 80,
     "metadata": {},
     "output_type": "execute_result"
    }
   ],
   "source": [
    "x = None\n",
    "x is None"
   ]
  },
  {
   "cell_type": "code",
   "execution_count": 84,
   "metadata": {},
   "outputs": [
    {
     "data": {
      "text/plain": [
       "(3, 4)"
      ]
     },
     "execution_count": 84,
     "metadata": {},
     "output_type": "execute_result"
    }
   ],
   "source": [
    "tuple(x[1])"
   ]
  },
  {
   "cell_type": "code",
   "execution_count": 86,
   "metadata": {},
   "outputs": [
    {
     "data": {
      "text/plain": [
       "True"
      ]
     },
     "execution_count": 86,
     "metadata": {},
     "output_type": "execute_result"
    }
   ],
   "source": [
    "isinstance(tuple([1]),tuple)"
   ]
  },
  {
   "cell_type": "code",
   "execution_count": 87,
   "metadata": {},
   "outputs": [
    {
     "ename": "AttributeError",
     "evalue": "module 'numpy' has no attribute 'matrix_det'",
     "output_type": "error",
     "traceback": [
      "\u001b[0;31m---------------------------------------------------------------------------\u001b[0m",
      "\u001b[0;31mAttributeError\u001b[0m                            Traceback (most recent call last)",
      "\u001b[0;32m<ipython-input-87-86bf6c9e8168>\u001b[0m in \u001b[0;36m<module>\u001b[0;34m\u001b[0m\n\u001b[0;32m----> 1\u001b[0;31m \u001b[0mnp\u001b[0m\u001b[0;34m.\u001b[0m\u001b[0mmatrix_det\u001b[0m\u001b[0;34m(\u001b[0m\u001b[0mx\u001b[0m\u001b[0;34m)\u001b[0m\u001b[0;34m\u001b[0m\u001b[0;34m\u001b[0m\u001b[0m\n\u001b[0m",
      "\u001b[0;31mAttributeError\u001b[0m: module 'numpy' has no attribute 'matrix_det'"
     ]
    }
   ],
   "source": [
    "np.matrix_det(x)"
   ]
  },
  {
   "cell_type": "code",
   "execution_count": 89,
   "metadata": {},
   "outputs": [],
   "source": [
    "x = list()"
   ]
  },
  {
   "cell_type": "code",
   "execution_count": 90,
   "metadata": {},
   "outputs": [
    {
     "data": {
      "text/plain": [
       "[]"
      ]
     },
     "execution_count": 90,
     "metadata": {},
     "output_type": "execute_result"
    }
   ],
   "source": [
    "x"
   ]
  },
  {
   "cell_type": "code",
   "execution_count": 92,
   "metadata": {},
   "outputs": [
    {
     "ename": "TypeError",
     "evalue": "'type' object is not iterable",
     "output_type": "error",
     "traceback": [
      "\u001b[0;31m---------------------------------------------------------------------------\u001b[0m",
      "\u001b[0;31mTypeError\u001b[0m                                 Traceback (most recent call last)",
      "\u001b[0;32m<ipython-input-92-929943ebbdf4>\u001b[0m in \u001b[0;36m<module>\u001b[0;34m\u001b[0m\n\u001b[0;32m----> 1\u001b[0;31m \u001b[0mx\u001b[0m \u001b[0;34m=\u001b[0m \u001b[0mlist\u001b[0m\u001b[0;34m(\u001b[0m\u001b[0mfloat\u001b[0m\u001b[0;34m)\u001b[0m\u001b[0;34m\u001b[0m\u001b[0;34m\u001b[0m\u001b[0m\n\u001b[0m",
      "\u001b[0;31mTypeError\u001b[0m: 'type' object is not iterable"
     ]
    }
   ],
   "source": []
  },
  {
   "cell_type": "code",
   "execution_count": null,
   "metadata": {},
   "outputs": [],
   "source": []
  }
 ],
 "metadata": {
  "kernelspec": {
   "display_name": "Python 3",
   "language": "python",
   "name": "python3"
  },
  "language_info": {
   "codemirror_mode": {
    "name": "ipython",
    "version": 3
   },
   "file_extension": ".py",
   "mimetype": "text/x-python",
   "name": "python",
   "nbconvert_exporter": "python",
   "pygments_lexer": "ipython3",
   "version": "3.7.3"
  }
 },
 "nbformat": 4,
 "nbformat_minor": 2
}
