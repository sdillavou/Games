{
 "cells": [
  {
   "cell_type": "markdown",
   "metadata": {},
   "source": [
    "# Log for to-do's"
   ]
  },
  {
   "cell_type": "markdown",
   "metadata": {},
   "source": [
    "move gravity into crash class.\n",
    "move crash class into its own file\n",
    "check python style guide to see if classes should be their own file?\n"
   ]
  },
  {
   "cell_type": "code",
   "execution_count": 1,
   "metadata": {},
   "outputs": [
    {
     "name": "stdout",
     "output_type": "stream",
     "text": [
      "pygame 1.9.6\n",
      "Hello from the pygame community. https://www.pygame.org/contribute.html\n"
     ]
    }
   ],
   "source": [
    "import pygame\n",
    "import math\n",
    "from Smash_Classes import Box, Smash, Wall, Baddie, Fruit, MetalBox, WoodBox\n"
   ]
  },
  {
   "cell_type": "code",
   "execution_count": null,
   "metadata": {},
   "outputs": [],
   "source": [
    "S = 1.3 # master scaling of everything\n",
    "\n",
    "pygame.init()\n",
    "\n",
    "display_width = 800\n",
    "display_height = 600\n",
    "\n",
    "gameDisplay = pygame.display.set_mode((display_width,display_height))\n",
    "pygame.display.set_caption('Smash Pangolin')\n",
    "\n",
    "black = (0,0,0)\n",
    "white = (255,255,255)\n",
    "\n",
    "clock = pygame.time.Clock()\n",
    "gameDisplay.fill(white)\n",
    "\n",
    "    \n",
    "init_x,init_y = 30,100\n",
    "pangolin = Smash(init_x,init_y,S)\n",
    "\n",
    "move_rate = 1\n",
    "\n",
    "\n",
    "def show1(thing):\n",
    "    # front face\n",
    "    pygame.draw.polygon(gameDisplay,thing.color,thing.drawings('front',pangolin))\n",
    "\n",
    "def show2(thing):\n",
    "    # side faces\n",
    "    pygame.draw.polygon(gameDisplay,tuple(i/2 +255/2 for i in thing.color),thing.drawings('top',pangolin))\n",
    "    pygame.draw.polygon(gameDisplay,tuple(i/2 +255/2 for i in thing.color),thing.drawings('side',pangolin))\n",
    "\n",
    "\n",
    "things = [Wall(200*2,200*2,250*2,5*2,S),\n",
    "          Wall(300*2,105*2,5*2,100*2,S),\n",
    "          Wall(0*2,105*2,5*2,100*2,S),\n",
    "          WoodBox(50*2,180*2,S)]\n",
    "\n",
    "for k in range(10):\n",
    "    things.append(Fruit(k*20 + 200,180*2,S))\n",
    "    \n",
    "for i in range(5):\n",
    "    things.append(WoodBox(k*20 + 400,150*2,S))\n",
    "    \n",
    "for i in range(4):\n",
    "    things.append(MetalBox(70*2+k*20,180*2-k*4,S))\n",
    "\n",
    "left_key = False\n",
    "right_key = False\n",
    "up_key = False\n",
    "down_key = False\n",
    "\n",
    "crashed = False\n",
    "\n",
    "while not crashed:\n",
    "    \n",
    "    for event in pygame.event.get():\n",
    "\n",
    "        if event.type == pygame.KEYDOWN:\n",
    "            if event.key == pygame.K_LEFT:\n",
    "                left_key = True\n",
    "            elif event.key == pygame.K_RIGHT:\n",
    "                right_key = True\n",
    "                \n",
    "            if event.key == pygame.K_c:\n",
    "                down_key = True\n",
    "        \n",
    "            elif event.key == pygame.K_UP:\n",
    "                pangolin.jump()\n",
    "                \n",
    "            elif event.key == pygame.K_q:\n",
    "                crashed = True\n",
    "                \n",
    "        elif event.type == pygame.KEYUP:\n",
    "            if event.key == pygame.K_LEFT:\n",
    "                left_key = False\n",
    "            elif event.key == pygame.K_RIGHT:\n",
    "                right_key = False\n",
    "            elif event.key == pygame.K_c:\n",
    "                down_key = False\n",
    "            \n",
    "      #      if event.key == pygame.K_UP:\n",
    "      #      elif event.key == pygame.K_DOWN:\n",
    "             \n",
    "        ######################\n",
    "    \n",
    "    gameDisplay.fill(white)\n",
    "    on_floor = False\n",
    "    \n",
    "    # Crouch if keys are pressed\n",
    "    pangolin.crouch(down_key)\n",
    "    \n",
    "    # Walk if keys are pressed\n",
    "    pangolin.walk(right_key-left_key)\n",
    "        \n",
    "    # accelerate pangolin due to gravity\n",
    "    pangolin.gravity()\n",
    "    \n",
    "    pangolin.airborne = True # will be set to false if proper collision occurs\n",
    "    \n",
    "    removal = [] # objects destroyed by ms. smash\n",
    "    for k,i in enumerate(things):\n",
    "       \n",
    "        if i.corporeal: # if corporeal object (not fruit)\n",
    "            \n",
    "            v = pangolin.vel[1]\n",
    "            dim = pangolin.collision(i) # automatically adjusts velocity within this function. collision = (dim>=0)\n",
    "            \n",
    "            if dim == 1 and isinstance(i,Box) and (not isinstance(i,MetalBox)) and abs(v)>pangolin.G*S: #and was_falling: # collision in y, box, pangolin was falling\n",
    "                removal.append(i)\n",
    "                i.visible = False\n",
    "                pangolin.vel[1] = -math.copysign((4-(v<0))*S,v) # bounce up!\n",
    "            \n",
    "        else: #non-corporeal, do not adjust velocity\n",
    "            if isinstance(i,Fruit):\n",
    "                if pangolin.overlap(i):\n",
    "                   #i.color = tuple([i*.98 for i in list(i.color)])\n",
    "                    removal.append(i)\n",
    "                    i.visible = False\n",
    "       \n",
    "    \n",
    "    # remove destroyed objects\n",
    "    for i in removal:\n",
    "        things.remove(i)\n",
    "    \n",
    "    # move the \n",
    "    pangolin.move()\n",
    "    \n",
    "    if pangolin.airborne:\n",
    "        pangolin.color = (30,30,30)\n",
    "    else:\n",
    "        pangolin.color = (0,0,0)\n",
    "\n",
    "    for i in [pangolin]+things:\n",
    "        if i.visible:\n",
    "            show2(i)\n",
    "            \n",
    "  \n",
    "    \n",
    "    for i in [pangolin]+things:\n",
    "        if i.visible:\n",
    "            show1(i)\n",
    "\n",
    "        \n",
    "    pygame.display.update()\n",
    "    clock.tick(200)\n",
    "\n",
    "pygame.quit()\n",
    "\n",
    "\n"
   ]
  },
  {
   "cell_type": "code",
   "execution_count": null,
   "metadata": {},
   "outputs": [],
   "source": []
  },
  {
   "cell_type": "code",
   "execution_count": 1,
   "metadata": {},
   "outputs": [],
   "source": []
  },
  {
   "cell_type": "code",
   "execution_count": null,
   "metadata": {},
   "outputs": [],
   "source": []
  },
  {
   "cell_type": "code",
   "execution_count": 2,
   "metadata": {},
   "outputs": [],
   "source": [
    "x = Body(10,10,20,20)"
   ]
  },
  {
   "cell_type": "code",
   "execution_count": 3,
   "metadata": {},
   "outputs": [
    {
     "name": "stdout",
     "output_type": "stream",
     "text": [
      "{'x': 10, 'y': 10, 'w': 20, 'h': 20}\n"
     ]
    }
   ],
   "source": [
    "x.info()"
   ]
  },
  {
   "cell_type": "code",
   "execution_count": 4,
   "metadata": {},
   "outputs": [],
   "source": []
  },
  {
   "cell_type": "code",
   "execution_count": 5,
   "metadata": {},
   "outputs": [
    {
     "name": "stdout",
     "output_type": "stream",
     "text": [
      "{'x': 4.0, 'y': 4, 'w': 10, 'h': 20, 'moveable': True, 'color': (0, 1, 0)}\n"
     ]
    }
   ],
   "source": [
    "y.info()"
   ]
  },
  {
   "cell_type": "code",
   "execution_count": 6,
   "metadata": {},
   "outputs": [],
   "source": [
    "z = Wall(10,100,100,100)"
   ]
  },
  {
   "cell_type": "code",
   "execution_count": 32,
   "metadata": {},
   "outputs": [
    {
     "data": {
      "text/plain": [
       "True"
      ]
     },
     "execution_count": 32,
     "metadata": {},
     "output_type": "execute_result"
    }
   ],
   "source": [
    "any(i for i in range(2))"
   ]
  },
  {
   "cell_type": "code",
   "execution_count": 18,
   "metadata": {},
   "outputs": [
    {
     "data": {
      "text/plain": [
       "0.0"
      ]
     },
     "execution_count": 18,
     "metadata": {},
     "output_type": "execute_result"
    }
   ],
   "source": [
    "import math\n",
    "math.copysign(0,0.1)"
   ]
  },
  {
   "cell_type": "code",
   "execution_count": 19,
   "metadata": {},
   "outputs": [
    {
     "data": {
      "text/plain": [
       "0"
      ]
     },
     "execution_count": 19,
     "metadata": {},
     "output_type": "execute_result"
    }
   ],
   "source": [
    "-0"
   ]
  },
  {
   "cell_type": "code",
   "execution_count": 23,
   "metadata": {},
   "outputs": [],
   "source": [
    "a = [1,2,4]\n",
    "b = [3,7,10]"
   ]
  },
  {
   "cell_type": "code",
   "execution_count": 25,
   "metadata": {},
   "outputs": [
    {
     "data": {
      "text/plain": [
       "[4, 9, 14]"
      ]
     },
     "execution_count": 25,
     "metadata": {},
     "output_type": "execute_result"
    }
   ],
   "source": [
    "[i+j for i,j in zip(a,b)]"
   ]
  },
  {
   "cell_type": "code",
   "execution_count": 27,
   "metadata": {},
   "outputs": [
    {
     "data": {
      "text/plain": [
       "True"
      ]
     },
     "execution_count": 27,
     "metadata": {},
     "output_type": "execute_result"
    }
   ],
   "source": [
    "all([True,True])"
   ]
  },
  {
   "cell_type": "code",
   "execution_count": 2,
   "metadata": {},
   "outputs": [
    {
     "ename": "NameError",
     "evalue": "name 'error' is not defined",
     "output_type": "error",
     "traceback": [
      "\u001b[0;31m---------------------------------------------------------------------------\u001b[0m",
      "\u001b[0;31mNameError\u001b[0m                                 Traceback (most recent call last)",
      "\u001b[0;32m<ipython-input-2-255c35882241>\u001b[0m in \u001b[0;36m<module>\u001b[0;34m\u001b[0m\n\u001b[0;32m----> 1\u001b[0;31m \u001b[0merror\u001b[0m\u001b[0;34m(\u001b[0m\u001b[0;34m'hi'\u001b[0m\u001b[0;34m)\u001b[0m\u001b[0;34m\u001b[0m\u001b[0;34m\u001b[0m\u001b[0m\n\u001b[0m",
      "\u001b[0;31mNameError\u001b[0m: name 'error' is not defined"
     ]
    }
   ],
   "source": [
    "error('hi')"
   ]
  },
  {
   "cell_type": "code",
   "execution_count": 4,
   "metadata": {},
   "outputs": [
    {
     "ename": "NameError",
     "evalue": "name 'Error' is not defined",
     "output_type": "error",
     "traceback": [
      "\u001b[0;31m---------------------------------------------------------------------------\u001b[0m",
      "\u001b[0;31mNameError\u001b[0m                                 Traceback (most recent call last)",
      "\u001b[0;32m<ipython-input-4-dce18b8b2bfd>\u001b[0m in \u001b[0;36m<module>\u001b[0;34m\u001b[0m\n\u001b[0;32m----> 1\u001b[0;31m \u001b[0;32mraise\u001b[0m \u001b[0mError\u001b[0m\u001b[0;34m(\u001b[0m\u001b[0;34m'hi'\u001b[0m\u001b[0;34m)\u001b[0m\u001b[0;34m\u001b[0m\u001b[0;34m\u001b[0m\u001b[0m\n\u001b[0m",
      "\u001b[0;31mNameError\u001b[0m: name 'Error' is not defined"
     ]
    }
   ],
   "source": [
    "raise NameError('hi')"
   ]
  },
  {
   "cell_type": "code",
   "execution_count": 18,
   "metadata": {},
   "outputs": [
    {
     "ename": "SyntaxError",
     "evalue": "invalid syntax (<ipython-input-18-9adf968b89f8>, line 1)",
     "output_type": "error",
     "traceback": [
      "\u001b[0;36m  File \u001b[0;32m\"<ipython-input-18-9adf968b89f8>\"\u001b[0;36m, line \u001b[0;32m1\u001b[0m\n\u001b[0;31m    for i in range(4) if i !=3:\u001b[0m\n\u001b[0m                              ^\u001b[0m\n\u001b[0;31mSyntaxError\u001b[0m\u001b[0;31m:\u001b[0m invalid syntax\n"
     ]
    }
   ],
   "source": [
    "for i in range(4) if i !=3:\n",
    "    print(i)"
   ]
  },
  {
   "cell_type": "code",
   "execution_count": 24,
   "metadata": {},
   "outputs": [],
   "source": [
    "a = [i for i in range(5)]"
   ]
  },
  {
   "cell_type": "code",
   "execution_count": 28,
   "metadata": {},
   "outputs": [
    {
     "data": {
      "text/plain": [
       "[0, 1, 2, 4]"
      ]
     },
     "execution_count": 28,
     "metadata": {},
     "output_type": "execute_result"
    }
   ],
   "source": [
    "a[:3]+a[4:]"
   ]
  },
  {
   "cell_type": "code",
   "execution_count": 31,
   "metadata": {},
   "outputs": [
    {
     "data": {
      "text/plain": [
       "False"
      ]
     },
     "execution_count": 31,
     "metadata": {},
     "output_type": "execute_result"
    }
   ],
   "source": [
    "all([0 ,1 ,1 ,1])"
   ]
  },
  {
   "cell_type": "code",
   "execution_count": 2,
   "metadata": {},
   "outputs": [
    {
     "data": {
      "text/plain": [
       "45"
      ]
     },
     "execution_count": 2,
     "metadata": {},
     "output_type": "execute_result"
    }
   ],
   "source": [
    "sum(range(1,10))"
   ]
  },
  {
   "cell_type": "code",
   "execution_count": 3,
   "metadata": {},
   "outputs": [
    {
     "data": {
      "text/plain": [
       "3"
      ]
     },
     "execution_count": 3,
     "metadata": {},
     "output_type": "execute_result"
    }
   ],
   "source": [
    "sum([1 for i in range(3)])"
   ]
  },
  {
   "cell_type": "code",
   "execution_count": 2,
   "metadata": {},
   "outputs": [
    {
     "data": {
      "text/plain": [
       "2"
      ]
     },
     "execution_count": 2,
     "metadata": {},
     "output_type": "execute_result"
    }
   ],
   "source": [
    "True + True"
   ]
  },
  {
   "cell_type": "code",
   "execution_count": 4,
   "metadata": {},
   "outputs": [],
   "source": [
    "x = tuple([i for i in range(2)])"
   ]
  },
  {
   "cell_type": "code",
   "execution_count": 16,
   "metadata": {},
   "outputs": [
    {
     "data": {
      "text/plain": [
       "(1, 0, 1)"
      ]
     },
     "execution_count": 16,
     "metadata": {},
     "output_type": "execute_result"
    }
   ],
   "source": [
    "x[1:]+x"
   ]
  },
  {
   "cell_type": "code",
   "execution_count": 2,
   "metadata": {},
   "outputs": [
    {
     "ename": "NameError",
     "evalue": "name 'eps' is not defined",
     "output_type": "error",
     "traceback": [
      "\u001b[0;31m---------------------------------------------------------------------------\u001b[0m",
      "\u001b[0;31mNameError\u001b[0m                                 Traceback (most recent call last)",
      "\u001b[0;32m<ipython-input-2-89e9a612f1e6>\u001b[0m in \u001b[0;36m<module>\u001b[0;34m\u001b[0m\n\u001b[0;32m----> 1\u001b[0;31m \u001b[0meps\u001b[0m\u001b[0;34m\u001b[0m\u001b[0;34m\u001b[0m\u001b[0m\n\u001b[0m",
      "\u001b[0;31mNameError\u001b[0m: name 'eps' is not defined"
     ]
    }
   ],
   "source": [
    "eps"
   ]
  },
  {
   "cell_type": "code",
   "execution_count": null,
   "metadata": {},
   "outputs": [],
   "source": []
  }
 ],
 "metadata": {
  "kernelspec": {
   "display_name": "Python 3",
   "language": "python",
   "name": "python3"
  }
 },
 "nbformat": 4,
 "nbformat_minor": 2
}
