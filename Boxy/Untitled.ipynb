{
 "cells": [
  {
   "cell_type": "code",
   "execution_count": 1,
   "metadata": {
    "ExecuteTime": {
     "end_time": "2020-05-15T20:42:43.366740Z",
     "start_time": "2020-05-15T20:42:43.361983Z"
    }
   },
   "outputs": [],
   "source": [
    "with open('do_re_mi.txt', 'w') as f:\n",
    "    f.write('Doe, a deer, a female deer\\n')\n",
    "    f.write('Ray, a drop of golden sun\\n')\n",
    "    f.write('Doe, a deer, a female deer\\n')\n",
    "    f.write('Ray, a drop of golden sun\\n')\n",
    "    f.write('Doe, a deer, a female deer\\n')\n",
    "    f.write('Ray, a drop of golden sun\\n')\n",
    "    f.write('Doe, a deer, a female deer\\n')\n",
    "    f.write('Ray, a drop of golden sun\\n')"
   ]
  },
  {
   "cell_type": "code",
   "execution_count": 67,
   "metadata": {
    "ExecuteTime": {
     "end_time": "2020-05-15T21:17:56.759726Z",
     "start_time": "2020-05-15T21:17:56.754666Z"
    }
   },
   "outputs": [],
   "source": [
    "with open('do_re_mi.txt', 'r') as d:\n",
    "    k = d.read().splitlines()\n",
    "    \n",
    "\n"
   ]
  },
  {
   "cell_type": "code",
   "execution_count": 70,
   "metadata": {
    "ExecuteTime": {
     "end_time": "2020-05-15T21:53:10.741697Z",
     "start_time": "2020-05-15T21:53:10.726484Z"
    }
   },
   "outputs": [
    {
     "data": {
      "text/plain": [
       "3"
      ]
     },
     "execution_count": 70,
     "metadata": {},
     "output_type": "execute_result"
    }
   ],
   "source": [
    "len('hii')"
   ]
  },
  {
   "cell_type": "code",
   "execution_count": 69,
   "metadata": {
    "ExecuteTime": {
     "end_time": "2020-05-15T21:26:04.527318Z",
     "start_time": "2020-05-15T21:26:04.520444Z"
    }
   },
   "outputs": [
    {
     "data": {
      "text/plain": [
       "['Box', 'wood', '10,2', 'T', '']"
      ]
     },
     "execution_count": 69,
     "metadata": {},
     "output_type": "execute_result"
    }
   ],
   "source": []
  },
  {
   "cell_type": "code",
   "execution_count": null,
   "metadata": {},
   "outputs": [],
   "source": []
  }
 ],
 "metadata": {
  "kernelspec": {
   "display_name": "Python 3",
   "language": "python",
   "name": "python3"
  },
  "language_info": {
   "codemirror_mode": {
    "name": "ipython",
    "version": 3
   },
   "file_extension": ".py",
   "mimetype": "text/x-python",
   "name": "python",
   "nbconvert_exporter": "python",
   "pygments_lexer": "ipython3",
   "version": "3.7.3"
  }
 },
 "nbformat": 4,
 "nbformat_minor": 2
}
