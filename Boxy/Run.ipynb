{
 "cells": [
  {
   "cell_type": "markdown",
   "metadata": {},
   "source": [
    "### Run cell below to play Boxy!\n",
    "##### Requires PyGame Module"
   ]
  },
  {
   "cell_type": "code",
   "execution_count": null,
   "metadata": {},
   "outputs": [
    {
     "name": "stdout",
     "output_type": "stream",
     "text": [
      "pygame 1.9.6\n",
      "Hello from the pygame community. https://www.pygame.org/contribute.html\n"
     ]
    }
   ],
   "source": [
    "import pygame\n",
    "\n",
    "pygame.init()\n",
    "\n",
    "# Standard modules\n",
    "import numpy as np\n",
    "#from time import sleep\n",
    "\n",
    "# Custom classes and functions\n",
    "from Super_Classes import Body, Shape\n",
    "from Status import Status\n",
    "from Player import Player\n",
    "from Constants import display_size\n",
    "from Level import Level\n",
    "from Make_Sounds import ouch_sound, thud_sound\n",
    "from Keyboard import Keyboard\n",
    "from Play_Level import play_level\n",
    "\n",
    "\n",
    "# Initialize game\n",
    "gameDisplay = pygame.display.set_mode(display_size)\n",
    "clock = pygame.time.Clock()\n",
    "\n",
    "# initialize keyboard object to take in control data and feed it to the player object\n",
    "keyboard = Keyboard()\n",
    "\n",
    "play_level(0,keyboard,gameDisplay,clock)\n",
    "\n",
    "pygame.quit()"
   ]
  },
  {
   "cell_type": "code",
   "execution_count": null,
   "metadata": {},
   "outputs": [],
   "source": []
  },
  {
   "cell_type": "markdown",
   "metadata": {},
   "source": [
    "To Do:\n",
    "\n",
    "Add spring boxes (metal/wood, one class that adds a shape of an arrow, and that's it, rest will be handled outside)\n",
    "\n",
    "Add life boxes\n",
    "\n",
    "Level saving\n",
    "\n",
    "Game structure, saving, scores, etc.\n",
    "\n",
    "Bad guys!\n",
    "\n",
    "add gettable lives and gettable protectors\n",
    "\n",
    "fruit and lives fly towards counters at the top when grabbed\n",
    "\n",
    "### Squeezing is not currently configured at all (to kill player) (is this needed?)\n",
    "#### Definitely need to fix: currently, falling non-breakable boxes do not kill player\n",
    "\n",
    "Known bugs:\n",
    "pass\n",
    "\n",
    "Credits:\n",
    "“Sound effects obtained from zapsplat.com and freesound.org\"\n",
    "\"Idea inspired by but unrelated to Crash Bandicoot\"\n"
   ]
  },
  {
   "cell_type": "code",
   "execution_count": null,
   "metadata": {},
   "outputs": [],
   "source": []
  },
  {
   "cell_type": "code",
   "execution_count": null,
   "metadata": {},
   "outputs": [],
   "source": []
  },
  {
   "cell_type": "code",
   "execution_count": null,
   "metadata": {},
   "outputs": [],
   "source": []
  }
 ],
 "metadata": {
  "kernelspec": {
   "display_name": "Python 3",
   "language": "python",
   "name": "python3"
  }
 },
 "nbformat": 4,
 "nbformat_minor": 2
}
