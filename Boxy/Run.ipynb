{
 "cells": [
  {
   "cell_type": "markdown",
   "metadata": {},
   "source": [
    "### Run cell below to play Boxy!\n",
    "##### Requires PyGame Module"
   ]
  },
  {
   "cell_type": "code",
   "execution_count": 1,
   "metadata": {
    "ExecuteTime": {
     "end_time": "2020-05-08T22:33:24.623779Z",
     "start_time": "2020-05-08T22:33:08.450477Z"
    }
   },
   "outputs": [],
   "source": [
    "import os\n",
    "os.environ['PYGAME_HIDE_SUPPORT_PROMPT'] = \"hide\"\n",
    "\n",
    "import pygame\n",
    "if False:\n",
    "    # These must be spcified for pyinstaller for some reason.\n",
    "    import pygame._view\n",
    "    import numpy.random.common\n",
    "    import numpy.random.bounded_integers\n",
    "    import numpy.random.entropy\n",
    "\n",
    "\n",
    "\n",
    "pygame.init();\n",
    "\n",
    "# Custom classes and functions\n",
    "from Constants import display_size\n",
    "from Keyboard import Game_Keyboard\n",
    "from Play_Level import play_level\n",
    "\n",
    "# Initialize game\n",
    "gameDisplay = pygame.display.set_mode(display_size)\n",
    "clock = pygame.time.Clock()\n",
    "\n",
    "# initialize keyboard object to take in control data and feed it to the player object\n",
    "keyboard = Game_Keyboard()\n",
    "\n",
    "play_level(1,keyboard,gameDisplay,clock)\n",
    "\n",
    "pygame.quit()\n"
   ]
  },
  {
   "cell_type": "code",
   "execution_count": 2,
   "metadata": {
    "ExecuteTime": {
     "end_time": "2020-05-08T22:27:43.528815Z",
     "start_time": "2020-05-08T22:27:43.515953Z"
    }
   },
   "outputs": [
    {
     "data": {
      "text/plain": [
       "3.605551275463989"
      ]
     },
     "execution_count": 2,
     "metadata": {},
     "output_type": "execute_result"
    }
   ],
   "source": [
    "import numpy as np\n",
    "\n",
    "np.linalg.norm([2,3])"
   ]
  },
  {
   "cell_type": "markdown",
   "metadata": {},
   "source": [
    "To Do:\n",
    "\n",
    "Add spring boxes (metal/wood, one class that adds a shape of an arrow, and that's it, rest will be handled outside)\n",
    "\n",
    "Level saving/checkpoints\n",
    "\n",
    "Game structure, saving, scores, etc.\n",
    "\n",
    "Bad guys!\n",
    "\n",
    "fruit and lives fly towards counters at the top when grabbed -- protectors fly from box?\n",
    "\n",
    "Known bugs:\n",
    "no handling of uncrouch for unbreakable objects (need to keep player crouched)\n",
    "falling non-breakable boxes do not kill player\n",
    "need a got-a-life sound\n",
    "not a bug, but need to change lives for fruit in master list when they are got (avoid infinite life trick)\n",
    "\n",
    "\n",
    "Credits:\n",
    "“Sound effects obtained from zapsplat.com and freesound.org\"\n",
    "\"Idea inspired by but unrelated to Crash Bandicoot\"\n",
    "\n",
    "\n"
   ]
  },
  {
   "cell_type": "code",
   "execution_count": null,
   "metadata": {},
   "outputs": [],
   "source": []
  },
  {
   "cell_type": "code",
   "execution_count": null,
   "metadata": {},
   "outputs": [],
   "source": []
  },
  {
   "cell_type": "markdown",
   "metadata": {},
   "source": [
    "### Run cell below to edit a level of Boxy!\n",
    "##### Requires PyGame Module"
   ]
  },
  {
   "cell_type": "code",
   "execution_count": null,
   "metadata": {
    "ExecuteTime": {
     "end_time": "2020-05-08T20:14:38.862475Z",
     "start_time": "2020-05-08T20:14:37.473Z"
    }
   },
   "outputs": [],
   "source": [
    "import pygame\n",
    "\n",
    "pygame.init()\n",
    "\n",
    "# Custom classes and functions\n",
    "from Constants import display_size\n",
    "from Level import Level\n",
    "from Keyboard import Build_Keyboard\n",
    "from Build_Level import build_level\n",
    "\n",
    "\n",
    "# Initialize game\n",
    "gameDisplay = pygame.display.set_mode([int(display_size[0]*1.3),display_size[1]])\n",
    "clock = pygame.time.Clock()\n",
    "\n",
    "# initialize keyboard object to take in control data and feed it to the player object\n",
    "keyboard = Build_Keyboard()\n",
    "\n",
    "build_level(0,keyboard,gameDisplay,clock)\n",
    "\n",
    "pygame.quit()"
   ]
  },
  {
   "cell_type": "code",
   "execution_count": null,
   "metadata": {
    "ExecuteTime": {
     "end_time": "2020-05-05T00:36:20.355694Z",
     "start_time": "2020-05-05T00:36:20.351298Z"
    }
   },
   "outputs": [],
   "source": []
  },
  {
   "cell_type": "code",
   "execution_count": null,
   "metadata": {
    "ExecuteTime": {
     "end_time": "2020-05-07T15:46:47.315884Z",
     "start_time": "2020-05-07T15:46:47.309943Z"
    }
   },
   "outputs": [],
   "source": []
  }
 ],
 "metadata": {
  "kernelspec": {
   "display_name": "Python 3",
   "language": "python",
   "name": "python3"
  },
  "language_info": {
   "codemirror_mode": {
    "name": "ipython",
    "version": 3
   },
   "file_extension": ".py",
   "mimetype": "text/x-python",
   "name": "python",
   "nbconvert_exporter": "python",
   "pygments_lexer": "ipython3",
   "version": "3.7.3"
  }
 },
 "nbformat": 4,
 "nbformat_minor": 2
}
