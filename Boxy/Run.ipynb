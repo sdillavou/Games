{
 "cells": [
  {
   "cell_type": "code",
   "execution_count": 1,
   "metadata": {},
   "outputs": [
    {
     "name": "stdout",
     "output_type": "stream",
     "text": [
      "pygame 1.9.6\n",
      "Hello from the pygame community. https://www.pygame.org/contribute.html\n"
     ]
    },
    {
     "ename": "KeyboardInterrupt",
     "evalue": "",
     "output_type": "error",
     "traceback": [
      "\u001b[0;31m---------------------------------------------------------------------------\u001b[0m",
      "\u001b[0;31mKeyboardInterrupt\u001b[0m                         Traceback (most recent call last)",
      "\u001b[0;32m<ipython-input-1-e5cc473a063e>\u001b[0m in \u001b[0;36m<module>\u001b[0;34m\u001b[0m\n\u001b[1;32m     96\u001b[0m \u001b[0;34m\u001b[0m\u001b[0m\n\u001b[1;32m     97\u001b[0m \u001b[0;34m\u001b[0m\u001b[0m\n\u001b[0;32m---> 98\u001b[0;31m     \u001b[0mpygame\u001b[0m\u001b[0;34m.\u001b[0m\u001b[0mdisplay\u001b[0m\u001b[0;34m.\u001b[0m\u001b[0mflip\u001b[0m\u001b[0;34m(\u001b[0m\u001b[0;34m)\u001b[0m\u001b[0;34m\u001b[0m\u001b[0;34m\u001b[0m\u001b[0m\n\u001b[0m\u001b[1;32m     99\u001b[0m     \u001b[0mclock\u001b[0m\u001b[0;34m.\u001b[0m\u001b[0mtick\u001b[0m\u001b[0;34m(\u001b[0m\u001b[0;36m60\u001b[0m\u001b[0;34m)\u001b[0m\u001b[0;34m\u001b[0m\u001b[0;34m\u001b[0m\u001b[0m\n\u001b[1;32m    100\u001b[0m \u001b[0;34m\u001b[0m\u001b[0m\n",
      "\u001b[0;31mKeyboardInterrupt\u001b[0m: "
     ]
    }
   ],
   "source": [
    "import pygame\n",
    "import math\n",
    "import Box\n",
    "import numpy as np\n",
    "from Super_Classes import Vector, Body, Shape\n",
    "import Platform\n",
    "from random import randint\n",
    "import copy\n",
    "\n",
    "pygame.init()\n",
    "\n",
    "display_width = 1000\n",
    "display_height = 600\n",
    "\n",
    "gameDisplay = pygame.display.set_mode((display_width,display_height))\n",
    "pygame.display.set_caption('Game!')\n",
    "\n",
    "black = (0,0,0)\n",
    "white = (255,255,255)\n",
    "\n",
    "clock = pygame.time.Clock()\n",
    "\n",
    "\n",
    "R = 110\n",
    "N = 250\n",
    "path = [np.array([500 + R*math.cos(2*math.pi*x/N),480 + R*math.sin(2*math.pi*x/N)]) for x in range(N)]\n",
    "d1 = Platform.Moving_Platform([60,10],copy.copy(path),color=(50,50,50),line_color = None ,line_width = 2)\n",
    "d2 = Platform.Moving_Platform([60,10],path[int(N/2):]+path[:int(N/2)],color=(50,50,50),line_color = None ,line_width = 2)\n",
    "\n",
    "p0 = Platform.Platform([500,480],[10,10])\n",
    "p1 = Platform.Platform([100,550],[200,50])\n",
    "p2 = Platform.Platform([900,550],[200,50])\n",
    "\n",
    "\n",
    "a = Box.Metal(p1.pos - [-100,p1.size[1]+30])\n",
    "a1 = Box.Metal(a.pos - [0,a.size[1]*2])\n",
    "a2 = Box.Metal(a.pos - [a.size[0]*2,0])\n",
    "\n",
    "b2 = Box.Tnt(path[int(N/2)]-[0,a.size[1]+d1.size[1]])\n",
    "b2.is_on(d2)\n",
    "b3 = Box.Wood(path[int(N/2)]-[0,a.size[1]+d1.size[1]+a.size[1]*2])\n",
    "b3.is_on(b2)\n",
    "b1 = Box.Nitro(path[0]-[0,a.size[1]+d2.size[1]])\n",
    "b1.is_on(d1)\n",
    "b4 = Box.Nitro(path[0]-[0,a.size[1]+d2.size[1]+a.size[1]*2])\n",
    "b4.is_on(b1)\n",
    "\n",
    "\n",
    "body_list = [p0,p1,p2,a,a1,a2,d1,d2,b1,b2,b3,b4]\n",
    "#shape_list = [Shape([(100,100),(20,200),(300,100)],(0,0,0),line_color = (100,0,0)),Shape([(500,100),(120,200),(700,100)],(100,0,100),line_color = (100,0,0))]\n",
    "\n",
    "body_list += []\n",
    "\n",
    "#body_list += [Box.Wood((150+k*85, 400)) for k in range(10)]\n",
    "#body_list[2].vel = np.array([1,-1])\n",
    "\n",
    "ticker = -1\n",
    "\n",
    "shifts = [np.array([randint(-10,10)/5,randint(-10,10)/5]) for _ in range(5)]\n",
    "shifts.append(np.array([0,0]))\n",
    "\n",
    "\n",
    "\n",
    "while True:\n",
    "\n",
    "    ### THIS IS NEEDED OR IT WILL CRASH\n",
    "    for event in pygame.event.get():\n",
    "        if event.type == 0:\n",
    "            done = True\n",
    "\n",
    "    gameDisplay.fill(white)\n",
    "    \n",
    "    \n",
    "    # Earthquake maker!\n",
    "    if ticker == -1 and False:\n",
    "        ticker = len(shifts)-2  \n",
    "    elif ticker>=0:\n",
    "        ticker -=1\n",
    "    \n",
    "        \n",
    "  \n",
    "    #for shp in shape_list:\n",
    "    #    shp.draw(gameDisplay,[0,0])\n",
    "    \n",
    "    #pygame.draw.polygon(gameDisplay, (0,0,0), [(100,100),(200,200),(300,100)])\n",
    "    \n",
    "    \n",
    "    for bod in body_list:\n",
    "        if ticker>=0:\n",
    "            bod.visual_shift(shifts[ticker]-shifts[ticker+1])\n",
    "        bod.move()\n",
    "        bod.draw(gameDisplay,[0,0])\n",
    "   #     \n",
    "    \n",
    "    \n",
    "    \n",
    "    \n",
    "    pygame.display.flip()\n",
    "    clock.tick(60)\n",
    "    \n",
    "    \n",
    "    \n",
    " \n",
    "    \n",
    "pygame.quit()"
   ]
  },
  {
   "cell_type": "code",
   "execution_count": null,
   "metadata": {},
   "outputs": [],
   "source": []
  },
  {
   "cell_type": "code",
   "execution_count": null,
   "metadata": {},
   "outputs": [],
   "source": []
  },
  {
   "cell_type": "code",
   "execution_count": 2,
   "metadata": {},
   "outputs": [
    {
     "data": {
      "text/plain": [
       "array([7, 6])"
      ]
     },
     "execution_count": 2,
     "metadata": {},
     "output_type": "execute_result"
    }
   ],
   "source": [
    "np.subtract([10,10],[3,4])"
   ]
  },
  {
   "cell_type": "code",
   "execution_count": 6,
   "metadata": {},
   "outputs": [
    {
     "data": {
      "text/plain": [
       "True"
      ]
     },
     "execution_count": 6,
     "metadata": {},
     "output_type": "execute_result"
    }
   ],
   "source": [
    "a = np.array([3,5])\n",
    "b = np.array([5,2])\n",
    "\n",
    "all(abs(a-a) < abs(a-b))"
   ]
  },
  {
   "cell_type": "code",
   "execution_count": 6,
   "metadata": {},
   "outputs": [
    {
     "data": {
      "text/plain": [
       "[<Super_Classes.Shape at 0x10ae58c88>, <Super_Classes.Shape at 0x10ae58cf8>]"
      ]
     },
     "execution_count": 6,
     "metadata": {},
     "output_type": "execute_result"
    }
   ],
   "source": [
    "b.shapes"
   ]
  },
  {
   "cell_type": "code",
   "execution_count": 1,
   "metadata": {},
   "outputs": [],
   "source": [
    "path = [i for i in range(10)]"
   ]
  },
  {
   "cell_type": "code",
   "execution_count": 3,
   "metadata": {},
   "outputs": [
    {
     "data": {
      "text/plain": [
       "[0, 1, 2, 3, 4, 5, 6, 7, 8, 9, 9, 8, 7, 6, 5, 4, 3, 2, 1, 0]"
      ]
     },
     "execution_count": 3,
     "metadata": {},
     "output_type": "execute_result"
    }
   ],
   "source": [
    "path+path[::-1]"
   ]
  },
  {
   "cell_type": "code",
   "execution_count": null,
   "metadata": {},
   "outputs": [],
   "source": []
  }
 ],
 "metadata": {
  "kernelspec": {
   "display_name": "Python 3",
   "language": "python",
   "name": "python3"
  }
 },
 "nbformat": 4,
 "nbformat_minor": 2
}
