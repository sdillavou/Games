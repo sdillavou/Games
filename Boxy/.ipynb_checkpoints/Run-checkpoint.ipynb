{
 "cells": [
  {
   "cell_type": "markdown",
   "metadata": {},
   "source": [
    "### Run cell below to play Boxy!\n",
    "##### Requires PyGame Module"
   ]
  },
  {
   "cell_type": "code",
   "execution_count": 2,
   "metadata": {
    "ExecuteTime": {
     "end_time": "2020-05-05T03:30:29.566009Z",
     "start_time": "2020-05-05T03:29:24.187666Z"
    }
   },
   "outputs": [
    {
     "ename": "KeyboardInterrupt",
     "evalue": "",
     "output_type": "error",
     "traceback": [
      "\u001b[0;31m---------------------------------------------------------------------------\u001b[0m",
      "\u001b[0;31mKeyboardInterrupt\u001b[0m                         Traceback (most recent call last)",
      "\u001b[0;32m<ipython-input-2-433ea8b9bb75>\u001b[0m in \u001b[0;36m<module>\u001b[0;34m\u001b[0m\n\u001b[1;32m     17\u001b[0m \u001b[0mkeyboard\u001b[0m \u001b[0;34m=\u001b[0m \u001b[0mGame_Keyboard\u001b[0m\u001b[0;34m(\u001b[0m\u001b[0;34m)\u001b[0m\u001b[0;34m\u001b[0m\u001b[0;34m\u001b[0m\u001b[0m\n\u001b[1;32m     18\u001b[0m \u001b[0;34m\u001b[0m\u001b[0m\n\u001b[0;32m---> 19\u001b[0;31m \u001b[0mplay_level\u001b[0m\u001b[0;34m(\u001b[0m\u001b[0;36m1\u001b[0m\u001b[0;34m,\u001b[0m\u001b[0mkeyboard\u001b[0m\u001b[0;34m,\u001b[0m\u001b[0mgameDisplay\u001b[0m\u001b[0;34m,\u001b[0m\u001b[0mclock\u001b[0m\u001b[0;34m)\u001b[0m\u001b[0;34m\u001b[0m\u001b[0;34m\u001b[0m\u001b[0m\n\u001b[0m\u001b[1;32m     20\u001b[0m \u001b[0;34m\u001b[0m\u001b[0m\n\u001b[1;32m     21\u001b[0m \u001b[0mpygame\u001b[0m\u001b[0;34m.\u001b[0m\u001b[0mquit\u001b[0m\u001b[0;34m(\u001b[0m\u001b[0;34m)\u001b[0m\u001b[0;34m\u001b[0m\u001b[0;34m\u001b[0m\u001b[0m\n",
      "\u001b[0;32m~/Documents/GitHub/Games/Boxy/Play_Level.py\u001b[0m in \u001b[0;36mplay_level\u001b[0;34m(num, keyboard, gameDisplay, clock)\u001b[0m\n\u001b[1;32m    120\u001b[0m \u001b[0;34m\u001b[0m\u001b[0m\n\u001b[1;32m    121\u001b[0m       \u001b[0;31m#  sleep(0.1) # turned on for debugging\u001b[0m\u001b[0;34m\u001b[0m\u001b[0;34m\u001b[0m\u001b[0;34m\u001b[0m\u001b[0m\n\u001b[0;32m--> 122\u001b[0;31m         \u001b[0mpygame\u001b[0m\u001b[0;34m.\u001b[0m\u001b[0mdisplay\u001b[0m\u001b[0;34m.\u001b[0m\u001b[0mupdate\u001b[0m\u001b[0;34m(\u001b[0m\u001b[0;34m)\u001b[0m\u001b[0;34m\u001b[0m\u001b[0;34m\u001b[0m\u001b[0m\n\u001b[0m\u001b[1;32m    123\u001b[0m         \u001b[0mclock\u001b[0m\u001b[0;34m.\u001b[0m\u001b[0mtick\u001b[0m\u001b[0;34m(\u001b[0m\u001b[0;36m35\u001b[0m\u001b[0;34m)\u001b[0m\u001b[0;34m\u001b[0m\u001b[0;34m\u001b[0m\u001b[0m\n\u001b[1;32m    124\u001b[0m \u001b[0;34m\u001b[0m\u001b[0m\n",
      "\u001b[0;31mKeyboardInterrupt\u001b[0m: "
     ]
    }
   ],
   "source": [
    "import pygame\n",
    "\n",
    "pygame.init()\n",
    "\n",
    "# Custom classes and functions\n",
    "from Constants import display_size\n",
    "from Level import Level\n",
    "from Keyboard import Game_Keyboard\n",
    "from Play_Level import play_level\n",
    "\n",
    "\n",
    "# Initialize game\n",
    "gameDisplay = pygame.display.set_mode(display_size)\n",
    "clock = pygame.time.Clock()\n",
    "\n",
    "# initialize keyboard object to take in control data and feed it to the player object\n",
    "keyboard = Game_Keyboard()\n",
    "\n",
    "play_level(1,keyboard,gameDisplay,clock)\n",
    "\n",
    "pygame.quit()"
   ]
  },
  {
   "cell_type": "code",
   "execution_count": null,
   "metadata": {},
   "outputs": [],
   "source": []
  },
  {
   "cell_type": "markdown",
   "metadata": {},
   "source": [
    "To Do:\n",
    "\n",
    "Add spring boxes (metal/wood, one class that adds a shape of an arrow, and that's it, rest will be handled outside)\n",
    "\n",
    "Add life boxes\n",
    "\n",
    "Level saving\n",
    "\n",
    "Game structure, saving, scores, etc.\n",
    "\n",
    "Bad guys!\n",
    "\n",
    "add gettable lives and gettable protectors\n",
    "\n",
    "fruit and lives fly towards counters at the top when grabbed\n",
    "\n",
    "### Squeezing is not currently configured at all (to kill player) (is this needed?)\n",
    "#### Definitely need to fix: currently, falling non-breakable boxes do not kill player\n",
    "\n",
    "Known bugs:\n",
    "pass\n",
    "\n",
    "Credits:\n",
    "“Sound effects obtained from zapsplat.com and freesound.org\"\n",
    "\"Idea inspired by but unrelated to Crash Bandicoot\"\n"
   ]
  },
  {
   "cell_type": "code",
   "execution_count": null,
   "metadata": {},
   "outputs": [],
   "source": []
  },
  {
   "cell_type": "code",
   "execution_count": null,
   "metadata": {},
   "outputs": [],
   "source": []
  },
  {
   "cell_type": "markdown",
   "metadata": {},
   "source": [
    "### Run cell below to edit a level of Boxy!\n",
    "##### Requires PyGame Module"
   ]
  },
  {
   "cell_type": "code",
   "execution_count": 1,
   "metadata": {
    "ExecuteTime": {
     "end_time": "2020-05-05T00:27:35.663738Z",
     "start_time": "2020-05-05T00:27:34.929388Z"
    }
   },
   "outputs": [
    {
     "name": "stdout",
     "output_type": "stream",
     "text": [
      "pygame 1.9.6\n",
      "Hello from the pygame community. https://www.pygame.org/contribute.html\n"
     ]
    },
    {
     "ename": "AttributeError",
     "evalue": "'Game_Keyboard' object has no attribute 'handle_in_game_events'",
     "output_type": "error",
     "traceback": [
      "\u001b[0;31m---------------------------------------------------------------------------\u001b[0m",
      "\u001b[0;31mAttributeError\u001b[0m                            Traceback (most recent call last)",
      "\u001b[0;32m<ipython-input-1-d00a8f0ff0e8>\u001b[0m in \u001b[0;36m<module>\u001b[0;34m\u001b[0m\n\u001b[1;32m     17\u001b[0m \u001b[0mkeyboard\u001b[0m \u001b[0;34m=\u001b[0m \u001b[0mGame_Keyboard\u001b[0m\u001b[0;34m(\u001b[0m\u001b[0;34m)\u001b[0m\u001b[0;34m\u001b[0m\u001b[0;34m\u001b[0m\u001b[0m\n\u001b[1;32m     18\u001b[0m \u001b[0;34m\u001b[0m\u001b[0m\n\u001b[0;32m---> 19\u001b[0;31m \u001b[0mbuild_level\u001b[0m\u001b[0;34m(\u001b[0m\u001b[0;36m1\u001b[0m\u001b[0;34m,\u001b[0m\u001b[0mkeyboard\u001b[0m\u001b[0;34m,\u001b[0m\u001b[0mgameDisplay\u001b[0m\u001b[0;34m,\u001b[0m\u001b[0mclock\u001b[0m\u001b[0;34m)\u001b[0m\u001b[0;34m\u001b[0m\u001b[0;34m\u001b[0m\u001b[0m\n\u001b[0m\u001b[1;32m     20\u001b[0m \u001b[0;34m\u001b[0m\u001b[0m\n\u001b[1;32m     21\u001b[0m \u001b[0mpygame\u001b[0m\u001b[0;34m.\u001b[0m\u001b[0mquit\u001b[0m\u001b[0;34m(\u001b[0m\u001b[0;34m)\u001b[0m\u001b[0;34m\u001b[0m\u001b[0;34m\u001b[0m\u001b[0m\n",
      "\u001b[0;32m~/Documents/GitHub/Games/Boxy/Build_Level.py\u001b[0m in \u001b[0;36mbuild_level\u001b[0;34m(num, keyboard, gameDisplay, clock)\u001b[0m\n\u001b[1;32m     41\u001b[0m         \u001b[0;31m# Note keyboard inputs and store them (including killing player by quitting)\u001b[0m\u001b[0;34m\u001b[0m\u001b[0;34m\u001b[0m\u001b[0;34m\u001b[0m\u001b[0m\n\u001b[1;32m     42\u001b[0m \u001b[0;34m\u001b[0m\u001b[0m\n\u001b[0;32m---> 43\u001b[0;31m         \u001b[0mkeyboard\u001b[0m\u001b[0;34m.\u001b[0m\u001b[0mhandle_in_game_events\u001b[0m\u001b[0;34m(\u001b[0m\u001b[0mpygame\u001b[0m\u001b[0;34m.\u001b[0m\u001b[0mevent\u001b[0m\u001b[0;34m.\u001b[0m\u001b[0mget\u001b[0m\u001b[0;34m(\u001b[0m\u001b[0;34m)\u001b[0m\u001b[0;34m)\u001b[0m\u001b[0;34m\u001b[0m\u001b[0;34m\u001b[0m\u001b[0m\n\u001b[0m\u001b[1;32m     44\u001b[0m \u001b[0;34m\u001b[0m\u001b[0m\n\u001b[1;32m     45\u001b[0m         \u001b[0;32mif\u001b[0m \u001b[0mkeyboard\u001b[0m\u001b[0;34m.\u001b[0m\u001b[0mcrashed\u001b[0m\u001b[0;34m:\u001b[0m \u001b[0;31m# toggle pause\u001b[0m\u001b[0;34m\u001b[0m\u001b[0;34m\u001b[0m\u001b[0m\n",
      "\u001b[0;31mAttributeError\u001b[0m: 'Game_Keyboard' object has no attribute 'handle_in_game_events'"
     ]
    }
   ],
   "source": [
    "import pygame\n",
    "\n",
    "pygame.init()\n",
    "\n",
    "# Custom classes and functions\n",
    "from Constants import display_size\n",
    "from Level import Level\n",
    "from Keyboard import Build_Keyboard\n",
    "from Build_Level import build_level\n",
    "\n",
    "\n",
    "# Initialize game\n",
    "gameDisplay = pygame.display.set_mode(np.array([display_size[0]*0.3,0])+display_size)\n",
    "clock = pygame.time.Clock()\n",
    "\n",
    "# initialize keyboard object to take in control data and feed it to the player object\n",
    "keyboard = Build_Keyboard()\n",
    "\n",
    "build_level(0,keyboard,gameDisplay,clock)\n",
    "\n",
    "pygame.quit()"
   ]
  },
  {
   "cell_type": "code",
   "execution_count": null,
   "metadata": {
    "ExecuteTime": {
     "end_time": "2020-05-05T00:36:20.355694Z",
     "start_time": "2020-05-05T00:36:20.351298Z"
    }
   },
   "outputs": [],
   "source": []
  },
  {
   "cell_type": "code",
   "execution_count": null,
   "metadata": {},
   "outputs": [],
   "source": []
  }
 ],
 "metadata": {
  "kernelspec": {
   "display_name": "Python 3",
   "language": "python",
   "name": "python3"
  },
  "language_info": {
   "codemirror_mode": {
    "name": "ipython",
    "version": 3
   },
   "file_extension": ".py",
   "mimetype": "text/x-python",
   "name": "python",
   "nbconvert_exporter": "python",
   "pygments_lexer": "ipython3",
   "version": "3.7.3"
  }
 },
 "nbformat": 4,
 "nbformat_minor": 2
}
