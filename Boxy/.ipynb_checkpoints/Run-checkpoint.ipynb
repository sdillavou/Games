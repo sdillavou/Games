{
 "cells": [
  {
   "cell_type": "markdown",
   "metadata": {},
   "source": [
    "### Run cell below to play Boxy!\n",
    "##### Requires PyGame Module"
   ]
  },
  {
   "cell_type": "code",
   "execution_count": 1,
   "metadata": {
    "ExecuteTime": {
     "end_time": "2020-05-08T21:15:44.383695Z",
     "start_time": "2020-05-08T21:15:09.610418Z"
    }
   },
   "outputs": [
    {
     "ename": "KeyboardInterrupt",
     "evalue": "",
     "output_type": "error",
     "traceback": [
      "\u001b[0;31m---------------------------------------------------------------------------\u001b[0m",
      "\u001b[0;31mKeyboardInterrupt\u001b[0m                         Traceback (most recent call last)",
      "\u001b[0;32m<ipython-input-1-b5177276a374>\u001b[0m in \u001b[0;36m<module>\u001b[0;34m\u001b[0m\n\u001b[1;32m     26\u001b[0m \u001b[0mkeyboard\u001b[0m \u001b[0;34m=\u001b[0m \u001b[0mGame_Keyboard\u001b[0m\u001b[0;34m(\u001b[0m\u001b[0;34m)\u001b[0m\u001b[0;34m\u001b[0m\u001b[0;34m\u001b[0m\u001b[0m\n\u001b[1;32m     27\u001b[0m \u001b[0;34m\u001b[0m\u001b[0m\n\u001b[0;32m---> 28\u001b[0;31m \u001b[0mplay_level\u001b[0m\u001b[0;34m(\u001b[0m\u001b[0;36m1\u001b[0m\u001b[0;34m,\u001b[0m\u001b[0mkeyboard\u001b[0m\u001b[0;34m,\u001b[0m\u001b[0mgameDisplay\u001b[0m\u001b[0;34m,\u001b[0m\u001b[0mclock\u001b[0m\u001b[0;34m)\u001b[0m\u001b[0;34m\u001b[0m\u001b[0;34m\u001b[0m\u001b[0m\n\u001b[0m\u001b[1;32m     29\u001b[0m \u001b[0;34m\u001b[0m\u001b[0m\n\u001b[1;32m     30\u001b[0m \u001b[0mpygame\u001b[0m\u001b[0;34m.\u001b[0m\u001b[0mquit\u001b[0m\u001b[0;34m(\u001b[0m\u001b[0;34m)\u001b[0m\u001b[0;34m\u001b[0m\u001b[0;34m\u001b[0m\u001b[0m\n",
      "\u001b[0;32m~/Documents/GitHub/Games/Boxy/Play_Level.py\u001b[0m in \u001b[0;36mplay_level\u001b[0;34m(num, keyboard, gameDisplay, clock)\u001b[0m\n\u001b[1;32m    123\u001b[0m \u001b[0;34m\u001b[0m\u001b[0m\n\u001b[1;32m    124\u001b[0m       \u001b[0;31m#  sleep(0.1) # turned on for debugging\u001b[0m\u001b[0;34m\u001b[0m\u001b[0;34m\u001b[0m\u001b[0;34m\u001b[0m\u001b[0m\n\u001b[0;32m--> 125\u001b[0;31m         \u001b[0mpygame\u001b[0m\u001b[0;34m.\u001b[0m\u001b[0mdisplay\u001b[0m\u001b[0;34m.\u001b[0m\u001b[0mupdate\u001b[0m\u001b[0;34m(\u001b[0m\u001b[0;34m)\u001b[0m\u001b[0;34m\u001b[0m\u001b[0;34m\u001b[0m\u001b[0m\n\u001b[0m\u001b[1;32m    126\u001b[0m         \u001b[0mclock\u001b[0m\u001b[0;34m.\u001b[0m\u001b[0mtick\u001b[0m\u001b[0;34m(\u001b[0m\u001b[0;36m35\u001b[0m\u001b[0;34m)\u001b[0m\u001b[0;34m\u001b[0m\u001b[0;34m\u001b[0m\u001b[0m\n\u001b[1;32m    127\u001b[0m \u001b[0;34m\u001b[0m\u001b[0m\n",
      "\u001b[0;31mKeyboardInterrupt\u001b[0m: "
     ]
    }
   ],
   "source": [
    "import os\n",
    "os.environ['PYGAME_HIDE_SUPPORT_PROMPT'] = \"hide\"\n",
    "\n",
    "import pygame\n",
    "if False:\n",
    "    # These must be spcified for pyinstaller for some reason.\n",
    "    import pygame._view\n",
    "    import numpy.random.common\n",
    "    import numpy.random.bounded_integers\n",
    "    import numpy.random.entropy\n",
    "\n",
    "\n",
    "\n",
    "pygame.init();\n",
    "\n",
    "# Custom classes and functions\n",
    "from Constants import display_size\n",
    "from Keyboard import Game_Keyboard\n",
    "from Play_Level import play_level\n",
    "\n",
    "# Initialize game\n",
    "gameDisplay = pygame.display.set_mode(display_size)\n",
    "clock = pygame.time.Clock()\n",
    "\n",
    "# initialize keyboard object to take in control data and feed it to the player object\n",
    "keyboard = Game_Keyboard()\n",
    "\n",
    "play_level(1,keyboard,gameDisplay,clock)\n",
    "\n",
    "pygame.quit()\n"
   ]
  },
  {
   "cell_type": "code",
   "execution_count": null,
   "metadata": {
    "ExecuteTime": {
     "end_time": "2020-05-08T19:58:39.100547Z",
     "start_time": "2020-05-08T19:58:39.096761Z"
    }
   },
   "outputs": [],
   "source": []
  },
  {
   "cell_type": "markdown",
   "metadata": {},
   "source": [
    "To Do:\n",
    "\n",
    "Add spring boxes (metal/wood, one class that adds a shape of an arrow, and that's it, rest will be handled outside)\n",
    "\n",
    "Level saving/checkpoints\n",
    "\n",
    "Game structure, saving, scores, etc.\n",
    "\n",
    "Bad guys!\n",
    "\n",
    "fruit and lives fly towards counters at the top when grabbed -- protectors fly from box?\n",
    "\n",
    "Known bugs:\n",
    "no handling of uncrouch for unbreakable objects (need to keep player crouched)\n",
    "falling non-breakable boxes do not kill player\n",
    "need a got-a-life sound\n",
    "not a bug, but need to change lives for fruit in master list when they are got (avoid infinite life trick)\n",
    "\n",
    "\n",
    "Credits:\n",
    "“Sound effects obtained from zapsplat.com and freesound.org\"\n",
    "\"Idea inspired by but unrelated to Crash Bandicoot\"\n",
    "\n",
    "\n"
   ]
  },
  {
   "cell_type": "code",
   "execution_count": null,
   "metadata": {},
   "outputs": [],
   "source": []
  },
  {
   "cell_type": "code",
   "execution_count": null,
   "metadata": {},
   "outputs": [],
   "source": []
  },
  {
   "cell_type": "markdown",
   "metadata": {},
   "source": [
    "### Run cell below to edit a level of Boxy!\n",
    "##### Requires PyGame Module"
   ]
  },
  {
   "cell_type": "code",
   "execution_count": null,
   "metadata": {
    "ExecuteTime": {
     "end_time": "2020-05-08T20:14:38.862475Z",
     "start_time": "2020-05-08T20:14:37.473Z"
    }
   },
   "outputs": [],
   "source": [
    "import pygame\n",
    "\n",
    "pygame.init()\n",
    "\n",
    "# Custom classes and functions\n",
    "from Constants import display_size\n",
    "from Level import Level\n",
    "from Keyboard import Build_Keyboard\n",
    "from Build_Level import build_level\n",
    "\n",
    "\n",
    "# Initialize game\n",
    "gameDisplay = pygame.display.set_mode([int(display_size[0]*1.3),display_size[1]])\n",
    "clock = pygame.time.Clock()\n",
    "\n",
    "# initialize keyboard object to take in control data and feed it to the player object\n",
    "keyboard = Build_Keyboard()\n",
    "\n",
    "build_level(0,keyboard,gameDisplay,clock)\n",
    "\n",
    "pygame.quit()"
   ]
  },
  {
   "cell_type": "code",
   "execution_count": null,
   "metadata": {
    "ExecuteTime": {
     "end_time": "2020-05-05T00:36:20.355694Z",
     "start_time": "2020-05-05T00:36:20.351298Z"
    }
   },
   "outputs": [],
   "source": []
  },
  {
   "cell_type": "code",
   "execution_count": null,
   "metadata": {
    "ExecuteTime": {
     "end_time": "2020-05-07T15:46:47.315884Z",
     "start_time": "2020-05-07T15:46:47.309943Z"
    }
   },
   "outputs": [],
   "source": []
  }
 ],
 "metadata": {
  "kernelspec": {
   "display_name": "Python 3",
   "language": "python",
   "name": "python3"
  }
 },
 "nbformat": 4,
 "nbformat_minor": 2
}
