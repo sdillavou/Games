{
 "cells": [
  {
   "cell_type": "markdown",
   "metadata": {},
   "source": [
    "To Do:\n",
    "\n",
    "\n",
    "Add slide functionality (with jump bonus)\n",
    "\n",
    "Add bellyflop functionality\n",
    "\n",
    "Add attack functionality (widen size for that)\n",
    "\n",
    "Add bounce boxes (metal/wood, one class that adds a shape of an arrow, and that's it, rest will be handled outside)\n",
    "\n",
    "Add Tnt destruct sequence\n",
    "\n",
    "Add destruct animations\n",
    "\n",
    "Add protection box (and following sprite?)\n"
   ]
  },
  {
   "cell_type": "code",
   "execution_count": 1,
   "metadata": {},
   "outputs": [
    {
     "name": "stdout",
     "output_type": "stream",
     "text": [
      "pygame 1.9.6\n",
      "Hello from the pygame community. https://www.pygame.org/contribute.html\n"
     ]
    },
    {
     "ename": "KeyboardInterrupt",
     "evalue": "",
     "output_type": "error",
     "traceback": [
      "\u001b[0;31m---------------------------------------------------------------------------\u001b[0m",
      "\u001b[0;31mKeyboardInterrupt\u001b[0m                         Traceback (most recent call last)",
      "\u001b[0;32m<ipython-input-1-c91f929419e5>\u001b[0m in \u001b[0;36m<module>\u001b[0;34m\u001b[0m\n\u001b[1;32m    218\u001b[0m \u001b[0;34m\u001b[0m\u001b[0m\n\u001b[1;32m    219\u001b[0m   \u001b[0;31m#  sleep(0.1)\u001b[0m\u001b[0;34m\u001b[0m\u001b[0;34m\u001b[0m\u001b[0;34m\u001b[0m\u001b[0m\n\u001b[0;32m--> 220\u001b[0;31m     \u001b[0mpygame\u001b[0m\u001b[0;34m.\u001b[0m\u001b[0mdisplay\u001b[0m\u001b[0;34m.\u001b[0m\u001b[0mflip\u001b[0m\u001b[0;34m(\u001b[0m\u001b[0;34m)\u001b[0m\u001b[0;34m\u001b[0m\u001b[0;34m\u001b[0m\u001b[0m\n\u001b[0m\u001b[1;32m    221\u001b[0m \u001b[0;34m\u001b[0m\u001b[0m\n\u001b[1;32m    222\u001b[0m \u001b[0;34m\u001b[0m\u001b[0m\n",
      "\u001b[0;31mKeyboardInterrupt\u001b[0m: "
     ]
    }
   ],
   "source": [
    "import pygame\n",
    "import math\n",
    "import Box\n",
    "import numpy as np\n",
    "from Super_Classes import Vector, Body, Shape\n",
    "import Platform\n",
    "from random import randint\n",
    "import copy\n",
    "from Player import Player\n",
    "from Constants import G, box_size\n",
    "from time import sleep\n",
    "\n",
    "pygame.init()\n",
    "\n",
    "display_width = 1000\n",
    "display_height = 600\n",
    "\n",
    "gameDisplay = pygame.display.set_mode((display_width,display_height))\n",
    "pygame.display.set_caption('Game!')\n",
    "\n",
    "black = (0,0,0)\n",
    "white = (255,255,255)\n",
    "\n",
    "clock = pygame.time.Clock()\n",
    "\n",
    "bounce_vel = 6.0\n",
    "\n",
    "R = 110\n",
    "N = 500\n",
    "path = [np.array([500 + R*math.cos(2*math.pi*x/N),480 + R*math.sin(2*math.pi*x/N)]) for x in range(N)]\n",
    "d1 = Platform.Moving_Platform([60,10],copy.copy(path),color=(50,50,50),line_color = None ,line_width = 2)\n",
    "d2 = Platform.Moving_Platform([60,10],path[int(N/2):]+path[:int(N/2)],color=(50,50,50),line_color = None ,line_width = 2)\n",
    "\n",
    "p0 = Platform.Platform(*[[500,480],[10,10]])\n",
    "p0.solid = False\n",
    "p1 = Platform.Platform([100,550],[200,50])\n",
    "p2 = Platform.Platform([900,550],[200,50])\n",
    "\n",
    "\n",
    "a = Box.Metal(p1.pos - [-100,p1.size[1]+box_size])\n",
    "a1 = Box.Metal(a.pos - [0,box_size*2])\n",
    "a3 = Box.Metal(a.pos - [0,box_size*4])\n",
    "a2 = Box.Metal(a.pos - [box_size*2,0])\n",
    "\n",
    "b2 = Box.Tnt(path[int(N/2)]-[0,box_size+d1.size[1]])\n",
    "b2.is_on(d2)\n",
    "b3 = Box.Wood(path[int(N/2)]-[0,box_size*3+d1.size[1]])\n",
    "b3.is_on(b2)\n",
    "b4 = Box.Wood(path[int(N/2)]-[0,box_size*5+d1.size[1]])\n",
    "b4.is_on(b3)\n",
    "#b1 = Box.Nitro(path[0]-[0,a.size[1]+d2.size[1]])\n",
    "#b1.is_on(d1)\n",
    "#b4 = Box.Nitro(path[0]-[0,a.size[1]+d2.size[1]+a.size[1]*2])\n",
    "#b4.is_on(b1)\n",
    "\n",
    "\n",
    "body_list = [p0,p1,p2,a,a1,a2,a3,d1,d2,b2,b3,b4]\n",
    "#shape_list = [Shape([(100,100),(20,200),(300,100)],(0,0,0),line_color = (100,0,0)),Shape([(500,100),(120,200),(700,100)],(100,0,100),line_color = (100,0,0))]\n",
    "\n",
    "body_list += []\n",
    "\n",
    "#body_list += [Box.Wood((150+k*85, 400)) for k in range(10)]\n",
    "#body_list[2].vel = np.array([1,-1])\n",
    "\n",
    "ticker = -1\n",
    "\n",
    "shifts = [np.array([randint(-10,10)/5,randint(-10,10)/5]) for _ in range(5)]\n",
    "shifts.append(np.array([0,0]))\n",
    "\n",
    "\n",
    "crashed = False     \n",
    "            \n",
    "left_key = False\n",
    "right_key = False\n",
    "up_key = False\n",
    "down_key = False\n",
    "crouch_key = False\n",
    "\n",
    "character = Player([600,400])\n",
    "relevant_one = None\n",
    "\n",
    "while True:\n",
    "\n",
    "    ### THIS IS NEEDED OR IT WILL CRASH\n",
    "\n",
    "    for event in pygame.event.get():\n",
    "\n",
    "        if event.type == pygame.KEYDOWN:\n",
    "            if event.key == pygame.K_LEFT:\n",
    "                left_key = True\n",
    "            elif event.key == pygame.K_RIGHT:\n",
    "                right_key = True\n",
    "                \n",
    "            elif event.key == pygame.K_UP:\n",
    "                up_key = True\n",
    "            elif event.key == pygame.K_DOWN:\n",
    "                down_key = True\n",
    "                \n",
    "            elif event.key == pygame.K_c:\n",
    "                crouch_key = True\n",
    "        \n",
    "            elif event.key == pygame.K_x:\n",
    "                character.jump()\n",
    "                \n",
    "                \n",
    "            elif event.key == pygame.K_q:\n",
    "                crashed = True\n",
    "                \n",
    "        elif event.type == pygame.KEYUP:\n",
    "            if event.key == pygame.K_LEFT:\n",
    "                left_key = False\n",
    "            elif event.key == pygame.K_RIGHT:\n",
    "                right_key = False\n",
    "            elif event.key == pygame.K_c:\n",
    "                crouch_key = False\n",
    "            \n",
    "            elif event.key == pygame.K_UP:\n",
    "                up_key = False\n",
    "            elif event.key == pygame.K_DOWN:\n",
    "                down_key = False\n",
    "        ######################\n",
    "    \n",
    "    \n",
    "    if crashed:\n",
    "        character= Player([200,200])\n",
    "        crashed = False\n",
    "        \n",
    "    # Crouch if keys are pressed\n",
    "    character.crouch(crouch_key)\n",
    "    \n",
    "\n",
    "    \n",
    "    \n",
    "    removal = [] # objects destroyed by player\n",
    "      \n",
    "\n",
    "    gameDisplay.fill(white)\n",
    "\n",
    "    # Move every object including the player\n",
    "    for bod in body_list:\n",
    "        bod.move()\n",
    "       \n",
    "        \n",
    "    # Walk if keys are pressed\n",
    "    character.walk(right_key-left_key,down_key-up_key)\n",
    "       \n",
    "    # accelerate character due to gravity\n",
    "    character.gravity()\n",
    "    character.move()\n",
    "   \n",
    "    for k,i in enumerate(body_list):\n",
    "       \n",
    "        if i.solid: # if corporeal object (not fruit)\n",
    "            dim,gap = character.overlap_dim(i)\n",
    "            \n",
    "            if dim>-1: # overlap!\n",
    "               # print(dim)\n",
    "                side = 2*(character.pos[dim] > i.pos[dim]) - 1\n",
    "                break_box = dim == 1 and isinstance(i,Box.Wood)    \n",
    "                bounce = dim == 1 and isinstance(i,Box.Wood)\n",
    "                   \n",
    "                # remove overlap, reduce velocity in this dimension to 0\n",
    "                character.pos[dim] += side*gap\n",
    "                if character.vel[dim]*side < 0: # if character is moving towards object\n",
    "                    character.vel[dim] = 0.0\n",
    "                \n",
    "                if bounce: \n",
    "                    character.vel[dim] = bounce_vel*side\n",
    "                    \n",
    "                if break_box: # may not bounce once body slam comes into play\n",
    "                    i.corporeal = False\n",
    "                    #i.destruct() ##write this....\n",
    "                    removal.append(i)\n",
    "                 \n",
    "                if side == -1 and dim == 1 and not break_box and not bounce: \n",
    "                    character.is_on(i) # character above, colliding vertically, i is not broken, character not bouncing\n",
    "                    relevant_one = i\n",
    "           \n",
    "            else:\n",
    "                if character.resting_on == i:\n",
    "                    character.vel += i.vel\n",
    "                    character.is_off() # not on anything no more\n",
    "                \n",
    "          \n",
    "        else: #non-corporeal, do not adjust velocity\n",
    "            pass\n",
    "           # if isinstance(i,Fruit):\n",
    "           #     if character.overlap(i):\n",
    "            #       #i.color = tuple([i*.98 for i in list(i.color)])\n",
    "             #       removal.append(i)\n",
    "              #      i.visible = False\n",
    "       \n",
    "    \n",
    "    \n",
    "    # remove destroyed objects\n",
    "    for i in removal:\n",
    "        body_list.remove(i)\n",
    "\n",
    "        \n",
    "    # Earthquake maker!\n",
    "    if ticker == -1 and False:\n",
    "        ticker = len(shifts)-2  \n",
    "    elif ticker>=0:\n",
    "        ticker -=1\n",
    "    \n",
    "    \n",
    "    gameDisplay.fill(white)\n",
    "\n",
    "    for bod in body_list+[character]:\n",
    "        if ticker>=0:\n",
    "            bod.visual_shift(shifts[ticker]-shifts[ticker+1])\n",
    "        bod.draw(gameDisplay,[0,0])\n",
    "\n",
    "  #  sleep(0.1)\n",
    "    pygame.display.flip()\n",
    "\n",
    "    \n",
    "pygame.quit()"
   ]
  },
  {
   "cell_type": "code",
   "execution_count": 4,
   "metadata": {},
   "outputs": [],
   "source": [
    "side = 2*(0 > character.pos[dim]) - 1"
   ]
  },
  {
   "cell_type": "code",
   "execution_count": 33,
   "metadata": {},
   "outputs": [
    {
     "data": {
      "text/plain": [
       "-1"
      ]
     },
     "execution_count": 33,
     "metadata": {},
     "output_type": "execute_result"
    }
   ],
   "source": [
    "side"
   ]
  },
  {
   "cell_type": "code",
   "execution_count": 4,
   "metadata": {},
   "outputs": [
    {
     "data": {
      "text/plain": [
       "<Platform.Moving_Platform at 0x103fb9c88>"
      ]
     },
     "execution_count": 4,
     "metadata": {},
     "output_type": "execute_result"
    }
   ],
   "source": [
    "relevant_one"
   ]
  },
  {
   "cell_type": "code",
   "execution_count": 6,
   "metadata": {},
   "outputs": [
    {
     "data": {
      "text/plain": [
       "True"
      ]
     },
     "execution_count": 6,
     "metadata": {},
     "output_type": "execute_result"
    }
   ],
   "source": [
    "a = np.array([3,5])\n",
    "b = np.array([5,2])\n",
    "\n",
    "all(abs(a-a) < abs(a-b))"
   ]
  },
  {
   "cell_type": "code",
   "execution_count": 16,
   "metadata": {},
   "outputs": [
    {
     "data": {
      "text/plain": [
       "numpy.int64"
      ]
     },
     "execution_count": 16,
     "metadata": {},
     "output_type": "execute_result"
    }
   ],
   "source": [
    "type(character.vel[1])"
   ]
  },
  {
   "cell_type": "code",
   "execution_count": 31,
   "metadata": {},
   "outputs": [],
   "source": [
    "character.vel[1] = 0.9\n"
   ]
  },
  {
   "cell_type": "code",
   "execution_count": 10,
   "metadata": {},
   "outputs": [
    {
     "data": {
      "text/plain": [
       "numpy.float64"
      ]
     },
     "execution_count": 10,
     "metadata": {},
     "output_type": "execute_result"
    }
   ],
   "source": [
    "type(body_list[0].vel[1])"
   ]
  },
  {
   "cell_type": "code",
   "execution_count": 4,
   "metadata": {},
   "outputs": [
    {
     "data": {
      "text/plain": [
       "array([0., 8.])"
      ]
     },
     "execution_count": 4,
     "metadata": {},
     "output_type": "execute_result"
    }
   ],
   "source": [
    "character.vel"
   ]
  },
  {
   "cell_type": "code",
   "execution_count": 3,
   "metadata": {},
   "outputs": [],
   "source": [
    "import numpy as np\n",
    "\n",
    "x = np.array([3,4],dtype='float')"
   ]
  },
  {
   "cell_type": "code",
   "execution_count": 12,
   "metadata": {},
   "outputs": [
    {
     "name": "stdout",
     "output_type": "stream",
     "text": [
      "{'pos': array([255.79217895, 699.2716215 ]), 'vel': array([0. , 3.6]), 'corporeal': True, 'solid': True, 'size': array([20., 40.]), 'transform': array([[1., 0.],\n",
      "       [0., 1.]]), 'shapes': [<Super_Classes.Shape object at 0x103fced68>], 'cooldown': 0, 'resting_on': None, 'on_me': [], 'crouching': False, 'sliding': False, 'attacking': False}\n"
     ]
    }
   ],
   "source": [
    "character.info()"
   ]
  },
  {
   "cell_type": "code",
   "execution_count": 5,
   "metadata": {},
   "outputs": [],
   "source": [
    "y[1] = 10"
   ]
  },
  {
   "cell_type": "code",
   "execution_count": 6,
   "metadata": {},
   "outputs": [
    {
     "data": {
      "text/plain": [
       "array([ 3., 10.])"
      ]
     },
     "execution_count": 6,
     "metadata": {},
     "output_type": "execute_result"
    }
   ],
   "source": [
    "y"
   ]
  },
  {
   "cell_type": "code",
   "execution_count": 7,
   "metadata": {},
   "outputs": [
    {
     "data": {
      "text/plain": [
       "numpy.float64"
      ]
     },
     "execution_count": 7,
     "metadata": {},
     "output_type": "execute_result"
    }
   ],
   "source": [
    "type(y[1])"
   ]
  },
  {
   "cell_type": "code",
   "execution_count": 6,
   "metadata": {},
   "outputs": [
    {
     "name": "stdout",
     "output_type": "stream",
     "text": [
      "6\n"
     ]
    }
   ],
   "source": [
    "for i in range(len(body_list)):\n",
    "    if body_list[i] == relevant_one:\n",
    "        print(i)"
   ]
  },
  {
   "cell_type": "code",
   "execution_count": 18,
   "metadata": {},
   "outputs": [
    {
     "data": {
      "text/plain": [
       "[<Player.Player at 0x103fa4518>,\n",
       " <Player.Player at 0x103fa4518>,\n",
       " <Player.Player at 0x103fa4518>,\n",
       " <Player.Player at 0x103fa4518>,\n",
       " <Player.Player at 0x103fa4518>,\n",
       " <Player.Player at 0x103fa4518>,\n",
       " <Player.Player at 0x103fa4518>,\n",
       " <Player.Player at 0x103fa4518>,\n",
       " <Player.Player at 0x103fa4518>]"
      ]
     },
     "execution_count": 18,
     "metadata": {},
     "output_type": "execute_result"
    }
   ],
   "source": [
    "relevant_one.on_me"
   ]
  },
  {
   "cell_type": "code",
   "execution_count": null,
   "metadata": {},
   "outputs": [],
   "source": []
  }
 ],
 "metadata": {
  "kernelspec": {
   "display_name": "Python 3",
   "language": "python",
   "name": "python3"
  },
  "language_info": {
   "codemirror_mode": {
    "name": "ipython",
    "version": 3
   },
   "file_extension": ".py",
   "mimetype": "text/x-python",
   "name": "python",
   "nbconvert_exporter": "python",
   "pygments_lexer": "ipython3",
   "version": "3.7.3"
  }
 },
 "nbformat": 4,
 "nbformat_minor": 2
}
