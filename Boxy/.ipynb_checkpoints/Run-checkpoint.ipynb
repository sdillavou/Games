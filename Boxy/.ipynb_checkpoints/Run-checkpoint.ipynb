{
 "cells": [
  {
   "cell_type": "markdown",
   "metadata": {},
   "source": [
    "### Run cell below to play Boxy!\n",
    "##### Requires PyGame Module"
   ]
  },
  {
   "cell_type": "code",
   "execution_count": 1,
   "metadata": {},
   "outputs": [
    {
     "name": "stdout",
     "output_type": "stream",
     "text": [
      "pygame 1.9.6\n",
      "Hello from the pygame community. https://www.pygame.org/contribute.html\n"
     ]
    },
    {
     "ename": "KeyboardInterrupt",
     "evalue": "",
     "output_type": "error",
     "traceback": [
      "\u001b[0;31m---------------------------------------------------------------------------\u001b[0m",
      "\u001b[0;31mKeyboardInterrupt\u001b[0m                         Traceback (most recent call last)",
      "\u001b[0;32m<ipython-input-1-3bd4234afbea>\u001b[0m in \u001b[0;36m<module>\u001b[0;34m\u001b[0m\n\u001b[1;32m    104\u001b[0m \u001b[0;34m\u001b[0m\u001b[0m\n\u001b[1;32m    105\u001b[0m   \u001b[0;31m#  sleep(0.1) # turned on for debugging\u001b[0m\u001b[0;34m\u001b[0m\u001b[0;34m\u001b[0m\u001b[0;34m\u001b[0m\u001b[0m\n\u001b[0;32m--> 106\u001b[0;31m     \u001b[0mpygame\u001b[0m\u001b[0;34m.\u001b[0m\u001b[0mdisplay\u001b[0m\u001b[0;34m.\u001b[0m\u001b[0mupdate\u001b[0m\u001b[0;34m(\u001b[0m\u001b[0mrect_list\u001b[0m\u001b[0;34m)\u001b[0m\u001b[0;34m\u001b[0m\u001b[0;34m\u001b[0m\u001b[0m\n\u001b[0m\u001b[1;32m    107\u001b[0m     \u001b[0;31m# note that in my system this rect_list does not prevent pygame from updating the entire screen...\u001b[0m\u001b[0;34m\u001b[0m\u001b[0;34m\u001b[0m\u001b[0;34m\u001b[0m\u001b[0m\n\u001b[1;32m    108\u001b[0m     \u001b[0mclock\u001b[0m\u001b[0;34m.\u001b[0m\u001b[0mtick\u001b[0m\u001b[0;34m(\u001b[0m\u001b[0;36m35\u001b[0m\u001b[0;34m)\u001b[0m\u001b[0;34m\u001b[0m\u001b[0;34m\u001b[0m\u001b[0m\n",
      "\u001b[0;31mKeyboardInterrupt\u001b[0m: "
     ]
    }
   ],
   "source": [
    "import pygame\n",
    "\n",
    "pygame.init()\n",
    "\n",
    "# Standard modules\n",
    "import numpy as np\n",
    "#from time import sleep\n",
    "\n",
    "# Custom classes and functions\n",
    "from Super_Classes import Body\n",
    "from Status import Status\n",
    "from Player import Player\n",
    "from Constants import display_size\n",
    "from Level import Level\n",
    "from Make_Sounds import ouch_sound, thud_sound\n",
    "from Keyboard import Keyboard\n",
    "\n",
    "\n",
    "# Initialize game\n",
    "gameDisplay = pygame.display.set_mode(display_size)\n",
    "gameDisplay.set_alpha(None)\n",
    "pygame.display.set_caption('Boxy!')\n",
    "sky = (205, 230, 247)\n",
    "clock = pygame.time.Clock()\n",
    "\n",
    "\n",
    "# Object to determine what to draw on screen\n",
    "screen = Body([0,0],display_size,corporeal=True,solid=False,velocity=[0,0])   \n",
    "\n",
    "# Object holding all level Bodies and scenery\n",
    "level = Level(num=0) # right now level 0\n",
    "\n",
    "death_delay = 60 # time after player's death that the level keeps tickin'\n",
    "crashed = death_delay # start with a completed crash cycle to initalize everything\n",
    "\n",
    "# initialize keyboard object to take in control data and feed it to the player object\n",
    "keyboard = Keyboard()\n",
    "\n",
    "while True: # play the game\n",
    "\n",
    "##############################################################################\n",
    "    # Handle player death and level reset\n",
    "    \n",
    "    if crashed or not screen.overlap(character): # player off screen = dead!\n",
    "        if crashed == death_delay:\n",
    "            character = Player(level.player_start)\n",
    "            crashed = 0\n",
    "            level.reset()\n",
    "            character.current_status = Status(lives = 14, fruit = 85, boxes = 0) # arbitrary start for now\n",
    "            keyboard.reset()\n",
    "        else:    \n",
    "            crashed += 1\n",
    "            \n",
    "        if crashed == 2: # just died, play ouch sound!\n",
    "            ouch_sound()\n",
    "\n",
    "\n",
    "##############################################################################\n",
    "    # Note keyboard inputs and store them (including killing player by quitting)\n",
    "    \n",
    "    keyboard.handle_events(pygame.event.get())\n",
    "      \n",
    "    if keyboard.crashed and not crashed: # if q key pressed, character is dead\n",
    "        crashed = 1\n",
    "\n",
    "##############################################################################    \n",
    "    # Move every non-player object and resolve their interactions\n",
    "    \n",
    "    level.move_objects()\n",
    "    \n",
    "\n",
    "##############################################################################\n",
    "    # [if player is alive] Evolve its state, move it, and resolve interactions with other bodies\n",
    "\n",
    "    if not crashed: # if player is dead, skip this part\n",
    "          \n",
    "        # determine player's state and velocity, then move\n",
    "        character.evolve(keyboard)\n",
    "        character.move()\n",
    "          \n",
    "        # sort box_list so that closest bodies interact first: prevents e.g. diagonally breaking boxes\n",
    "        level.box_list = sorted(level.box_list, key= lambda x: sum((character.pos-x.pos)**2), reverse=False)\n",
    "        \n",
    "       # squeeze = [[False,False],[False,False]]\n",
    "     \n",
    "        # all objects interact with the player (destroy boxes, get fruit, land on platforms, etc)\n",
    "        for i in level.box_list+level.platform_list+level.gettable_list:\n",
    "            i.interact(character)\n",
    "            \n",
    "        # some of these interactions might have killed ya. Then ya dead!\n",
    "        if character.protection < 0:\n",
    "            crashed = 1\n",
    "        \n",
    "        \n",
    "##############################################################################\n",
    "    # Prepare canvas and draw visuals\n",
    "\n",
    "    # fill display with sky color and set center position for screen (only overlapping objects will draw)\n",
    "    gameDisplay.fill(sky)\n",
    "    screen.pos = np.array([character.pos[0]-display_size[0]/2,0])\n",
    "   \n",
    "    # move all non-corporeal objects to the foreground, draw all bodies, and clean foreground list of dead objects\n",
    "    rect_list = level.draw_level(gameDisplay,screen,character)\n",
    "\n",
    "  #  sleep(0.1) # turned on for debugging\n",
    "    pygame.display.update(rect_list) \n",
    "    # note that in my system this rect_list does not prevent pygame from updating the entire screen...\n",
    "    clock.tick(35)\n",
    "\n",
    "##############################################################################\n",
    "    \n",
    "pygame.quit()"
   ]
  },
  {
   "cell_type": "code",
   "execution_count": 6,
   "metadata": {},
   "outputs": [
    {
     "data": {
      "text/plain": [
       "[<rect(0, 0, -401, 24)>,\n",
       " <rect(0, 55, -524, 32)>,\n",
       " <rect(0, 0, -230, 10)>,\n",
       " <rect(0, 25, -308, 37)>,\n",
       " <rect(0, 0, -54, 30)>,\n",
       " <rect(0, 46, -113, 40)>,\n",
       " <rect(26, 0, 68, 30)>,\n",
       " <rect(0, 23, -9, 49)>,\n",
       " <rect(222, 0, 79, 30)>,\n",
       " <rect(30, 55, 147, 38)>]"
      ]
     },
     "execution_count": 6,
     "metadata": {},
     "output_type": "execute_result"
    }
   ],
   "source": [
    "rect_list[:10]"
   ]
  },
  {
   "cell_type": "markdown",
   "metadata": {},
   "source": [
    "To Do:\n",
    "\n",
    "sounds for character touching down\n",
    "\n",
    "Add spring boxes (metal/wood, one class that adds a shape of an arrow, and that's it, rest will be handled outside)\n",
    "\n",
    "Add Tnt destruct sequence\n",
    "\n",
    "Level saving\n",
    "\n",
    "Game structure, saving, scores, etc.\n",
    "\n",
    "Bad guys!\n",
    "\n",
    "Edit sound files so they start quicker (doing this in finder made them unloadable)\n",
    "\n",
    "### Squeezing is not currently configured at all (to kill player) (is this needed?)\n",
    "#### Definitely need to fix: currently, falling non-breakable boxes do not kill player\n",
    "\n",
    "Known bugs:\n",
    "falling stacks of boxes ON a moving platform results in slight overlap (but nothing functionally problematic)\n",
    "\n",
    "Credits:\n",
    "“Sound effects obtained from zapsplat.com and freesound.org\"\n",
    "\"Idea inspired by but unrelated to Crash Bandicoot\"\n"
   ]
  },
  {
   "cell_type": "code",
   "execution_count": 3,
   "metadata": {},
   "outputs": [],
   "source": [
    "x = [2,3,5]"
   ]
  },
  {
   "cell_type": "code",
   "execution_count": 9,
   "metadata": {},
   "outputs": [],
   "source": [
    "y = x"
   ]
  },
  {
   "cell_type": "code",
   "execution_count": 10,
   "metadata": {},
   "outputs": [
    {
     "data": {
      "text/plain": [
       "[1, 3, 5]"
      ]
     },
     "execution_count": 10,
     "metadata": {},
     "output_type": "execute_result"
    }
   ],
   "source": [
    "x"
   ]
  },
  {
   "cell_type": "code",
   "execution_count": 11,
   "metadata": {},
   "outputs": [],
   "source": [
    "x[0] = 1"
   ]
  },
  {
   "cell_type": "code",
   "execution_count": 12,
   "metadata": {},
   "outputs": [
    {
     "data": {
      "text/plain": [
       "[1, 3, 5]"
      ]
     },
     "execution_count": 12,
     "metadata": {},
     "output_type": "execute_result"
    }
   ],
   "source": [
    "y"
   ]
  },
  {
   "cell_type": "code",
   "execution_count": null,
   "metadata": {},
   "outputs": [],
   "source": []
  }
 ],
 "metadata": {
  "kernelspec": {
   "display_name": "Python 3",
   "language": "python",
   "name": "python3"
  }
 },
 "nbformat": 4,
 "nbformat_minor": 2
}
